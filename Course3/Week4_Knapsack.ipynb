{
 "cells": [
  {
   "cell_type": "code",
   "execution_count": 113,
   "metadata": {},
   "outputs": [],
   "source": [
    "import numpy as np\n",
    "from numba import jit\n",
    "import time"
   ]
  },
  {
   "cell_type": "markdown",
   "metadata": {},
   "source": [
    "# 1)"
   ]
  },
  {
   "cell_type": "code",
   "execution_count": 126,
   "metadata": {},
   "outputs": [],
   "source": [
    "def knapsack(values,weights,size,numItems):\n",
    "    A = np.zeros((numItems+1,size),dtype=int)\n",
    "    for ii in range(1,numItems+1):\n",
    "        for x in range(size):\n",
    "            if weights[ii-1] <= x:\n",
    "                A[ii,x] = max(A[ii-1,x],A[ii-1,x-weights[ii-1]]+values[ii-1])\n",
    "            else:\n",
    "                A[ii,x] = A[ii-1,x]\n",
    "    return A[numItems,size-1]"
   ]
  },
  {
   "cell_type": "code",
   "execution_count": 127,
   "metadata": {},
   "outputs": [],
   "source": [
    "valsWeights = np.loadtxt('knapsack1.txt',dtype=int)\n",
    "size,numItems = valsWeights[0,:]\n",
    "valsWeights = valsWeights[1:,:]\n",
    "values,weights = valsWeights[:,0],valsWeights[:,1]"
   ]
  },
  {
   "cell_type": "code",
   "execution_count": 138,
   "metadata": {},
   "outputs": [
    {
     "data": {
      "text/plain": [
       "(2493893, 0.9928150177001953)"
      ]
     },
     "execution_count": 138,
     "metadata": {},
     "output_type": "execute_result"
    }
   ],
   "source": [
    "t1 = time.time()\n",
    "ans,knapsack(values,weights,size,numItems)\n",
    "ans,time.time()-t1"
   ]
  },
  {
   "cell_type": "markdown",
   "metadata": {},
   "source": [
    "# 2)  Knapsack is giant, the time and space is too big to use an array. Only store data when needed"
   ]
  },
  {
   "cell_type": "code",
   "execution_count": 205,
   "metadata": {},
   "outputs": [],
   "source": [
    "@jit(nopython=True) # Set \"nopython\" mode for best performance, equivalent to @njit\n",
    "def knapsackStoreLessData(values,weights,size,numItems):\n",
    "    A = np.zeros((2,size))\n",
    "    for ii in range(1,numItems+1):\n",
    "        for x in range(size):\n",
    "            if weights[ii-1] <= x:\n",
    "                A[1,x] = max(A[1-1,x],A[1-1,x-weights[ii-1]]+values[ii-1])\n",
    "            else:\n",
    "                A[1,x] = A[1-1,x]\n",
    "        # Update the first row and repeat\n",
    "        A[1-1,:] = A[1,:]\n",
    "                \n",
    "    return A[1,size-1]"
   ]
  },
  {
   "cell_type": "code",
   "execution_count": 206,
   "metadata": {},
   "outputs": [],
   "source": [
    "valsWeights = np.loadtxt('knapsack1.txt',dtype=int)\n",
    "size,numItems = valsWeights[0,:]\n",
    "valsWeights = valsWeights[1:,:]\n",
    "values,weights = valsWeights[:,0],valsWeights[:,1]"
   ]
  },
  {
   "cell_type": "code",
   "execution_count": 207,
   "metadata": {},
   "outputs": [
    {
     "data": {
      "text/plain": [
       "(2493893.0, 0.21919727325439453)"
      ]
     },
     "execution_count": 207,
     "metadata": {},
     "output_type": "execute_result"
    }
   ],
   "source": [
    "t1 = time.time()\n",
    "ans = knapsackStoreLessData(values,weights,size,numItems)\n",
    "ans,time.time()-t1"
   ]
  },
  {
   "cell_type": "code",
   "execution_count": 208,
   "metadata": {},
   "outputs": [],
   "source": [
    "valsWeights = np.loadtxt('knapsack_big.txt',dtype=int)\n",
    "size,numItems = valsWeights[0,:]\n",
    "valsWeights = valsWeights[1:,:]\n",
    "values,weights = valsWeights[:,0],valsWeights[:,1]"
   ]
  },
  {
   "cell_type": "code",
   "execution_count": 209,
   "metadata": {},
   "outputs": [
    {
     "data": {
      "text/plain": [
       "(4243395.0, 3.6665737628936768)"
      ]
     },
     "execution_count": 209,
     "metadata": {},
     "output_type": "execute_result"
    }
   ],
   "source": [
    "t1 = time.time()\n",
    "ans = knapsackStoreLessData(values,weights,size,numItems)\n",
    "ans,time.time()-t1"
   ]
  },
  {
   "cell_type": "code",
   "execution_count": null,
   "metadata": {},
   "outputs": [],
   "source": []
  }
 ],
 "metadata": {
  "kernelspec": {
   "display_name": "Python 3",
   "language": "python",
   "name": "python3"
  },
  "language_info": {
   "codemirror_mode": {
    "name": "ipython",
    "version": 3
   },
   "file_extension": ".py",
   "mimetype": "text/x-python",
   "name": "python",
   "nbconvert_exporter": "python",
   "pygments_lexer": "ipython3",
   "version": "3.8.5"
  }
 },
 "nbformat": 4,
 "nbformat_minor": 4
}
