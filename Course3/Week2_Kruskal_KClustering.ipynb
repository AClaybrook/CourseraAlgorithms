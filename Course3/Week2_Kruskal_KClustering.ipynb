{
 "cells": [
  {
   "cell_type": "code",
   "execution_count": 1,
   "metadata": {},
   "outputs": [],
   "source": [
    "import numpy as np\n",
    "\n",
    "# def buildGraph(data):\n",
    "#     G = {}\n",
    "#     for ii,row in enumerate(data):\n",
    "#         if row[0] not in G:\n",
    "#             G[row[0]] = [(row[1],row[2])]\n",
    "#         else:\n",
    "#             nodeWeightList = G[row[0]]\n",
    "#             nodeWeightList.append((row[1],row[2]))\n",
    "#             G.update({row[0]:nodeWeightList})\n",
    "    \n",
    "#     temp = data[:,0].copy()\n",
    "#     data[:,0] = data[:,1]\n",
    "#     data[:,1] = temp\n",
    "#     for ii,row in enumerate(data):\n",
    "#         if row[0] not in G:\n",
    "#             G[row[0]] = [(row[1],row[2])]\n",
    "#         else:\n",
    "#             nodeWeightList = G[row[0]]\n",
    "#             nodeWeightList.append((row[1],row[2]))\n",
    "#             G.update({row[0]:nodeWeightList})\n",
    "#     return G\n",
    "\n",
    "# def updateGraph(G,node1,node2,weight):\n",
    "#     if node1 not in G:\n",
    "#         G[node1] = [(node2,weight)]\n",
    "#     else:\n",
    "#         nodeWeightList = G[node1]\n",
    "#         nodeWeightList.append((node2,weight))\n",
    "#         G.update({node1:nodeWeightList})\n",
    "            \n",
    "#     if node2 not in G:\n",
    "#         G[node2] = [(node1,weight)]\n",
    "#     else:\n",
    "#         nodeWeightList = G[node2]\n",
    "#         nodeWeightList.append((node1,weight))\n",
    "#         G.update({node2:nodeWeightList})\n",
    "        \n",
    "# def dfs(G,start):\n",
    "#     stack = [start]\n",
    "#     seen = {start}\n",
    "#     while stack:\n",
    "#         node = stack.pop()\n",
    "#         if node not in seen:\n",
    "#             seen.add(node)\n",
    "#         for edge in G[node]:\n",
    "#             if edge[0] not in seen:\n",
    "#                 stack.append(edge[0])\n",
    "#     return seen\n",
    "\n",
    "\n",
    "# data = np.loadtxt('clustering1.txt',skiprows=1,dtype=int)\n",
    "# data[:,0:2] = data[:,0:2]-1 # map from 0 instead of 1\n",
    "# data = data[np.argsort(data[:,2]),:]\n",
    "# data\n",
    "\n",
    "# # Doesn't work \n",
    "# nodes = np.unique(data[:,0:2])\n",
    "# G = {node:[] for node in nodes}\n",
    "# for ii in range(len(data)):\n",
    "#     connectedNodes = dfs(G,data[ii,0])\n",
    "#     if data[ii,1] not in connectedNodes:\n",
    "#         updateGraph(G,data[ii,0],data[ii,1],data[ii,2])\n",
    "# sum([v[0][1] for k,v in G.items()])"
   ]
  },
  {
   "cell_type": "markdown",
   "metadata": {},
   "source": [
    "# Kruskals and K Clustering"
   ]
  },
  {
   "cell_type": "code",
   "execution_count": 2,
   "metadata": {},
   "outputs": [],
   "source": [
    "# def find(leaders,node):\n",
    "#     if leaders[node] == node:\n",
    "#         return node\n",
    "#     return find(leaders,leaders[node])\n",
    "\n",
    "def convertLeadersToClusters(leaders):\n",
    "    clusters = [find(leaders,node) for node in leaders]\n",
    "    return clusters\n",
    "\n",
    "def find(leaders,node):\n",
    "    nodes = [node]\n",
    "    while leaders[node] != node:\n",
    "        node = leaders[node]\n",
    "        nodes.append(node)\n",
    "    \n",
    "    # Update to point to leader\n",
    "    for nodeii in nodes:\n",
    "        leaders[nodeii] = node\n",
    "    return node\n",
    "\n",
    "def union(leaders,ranks,node1,node2):\n",
    "    # Kind of unnecessay to find the leaderssince we are passing in the leaders, but if any node is passed in this is necessary\n",
    "    leaderOfNode1 = find(leaders,node1)\n",
    "    leaderOfNode2 = find(leaders,node2)\n",
    "    if ranks[leaderOfNode1] < ranks[leaderOfNode2]:\n",
    "        leaders[leaderOfNode1] = leaderOfNode2\n",
    "    elif ranks[leaderOfNode1] > ranks[leaderOfNode2]:\n",
    "        leaders[leaderOfNode2] = leaderOfNode1\n",
    "    else:\n",
    "        leaders[leaderOfNode2] = leaderOfNode1\n",
    "        ranks[leaderOfNode1] +=1\n",
    "    return\n",
    "\n",
    "\n",
    "def findMaxSpacingOfKClusters(data,leaders,edgesLookedAt):\n",
    "    leaders = convertLeadersToClusters(leaders) # Rename all nodes pointing to a leader have the same leader label\n",
    "#     clusterNames = np.unique(leaders) # Get unique cluster labels\n",
    "\n",
    "    # Continue looking at edges until an edge goes between two clusters\n",
    "    while edgesLookedAt < len(data):\n",
    "        node1,node2,weight = data[edgesLookedAt+1,:]\n",
    "        edgesLookedAt+=1\n",
    "        # find leaders\n",
    "        leaderOfNode1 = find(leaders,node1)\n",
    "        leaderOfNode2 = find(leaders,node2)\n",
    "        if leaderOfNode1 != leaderOfNode2:\n",
    "            return weight\n",
    "\n",
    "def kruskalsAlgorithmAndKClustering(data,k=1):\n",
    "    # Initialize leaders as self and ranks as 0\n",
    "    mst = []\n",
    "    leaders = []\n",
    "    ranks = []\n",
    "    numEdges = 0\n",
    "    nodes = np.unique(data[:,0:2])\n",
    "    numNodesMinus1 = len(nodes)-1\n",
    "    numOfClusters = len(nodes) \n",
    "    for node in nodes:\n",
    "        leaders.append(node)\n",
    "        ranks.append(0)\n",
    "\n",
    "        # Loop through all edges\n",
    "    for ii in range(len(data)):\n",
    "        node1,node2,weight = data[ii,:]\n",
    "        # find leaders\n",
    "        leaderOfNode1 = find(leaders,node1)\n",
    "        leaderOfNode2 = find(leaders,node2)\n",
    "        if leaderOfNode1 != leaderOfNode2:\n",
    "            numEdges +=1\n",
    "            mst.append((node1,node2,weight))\n",
    "            # update leaders and ranks\n",
    "            union(leaders,ranks,leaderOfNode1,leaderOfNode2)\n",
    "            numOfClusters-=1\n",
    "            if numEdges == numNodesMinus1 or numOfClusters == k:\n",
    "                break\n",
    "    return sum(np.asarray(mst)[:,2]),mst,leaders,ii"
   ]
  },
  {
   "cell_type": "code",
   "execution_count": 3,
   "metadata": {},
   "outputs": [
    {
     "data": {
      "text/plain": [
       "array([[   91,   386,     1],\n",
       "       [  297,   419,     1],\n",
       "       [  181,   224,     1],\n",
       "       ...,\n",
       "       [   62,   231, 10000],\n",
       "       [  361,   370, 10000],\n",
       "       [   45,   398, 10000]])"
      ]
     },
     "execution_count": 3,
     "metadata": {},
     "output_type": "execute_result"
    }
   ],
   "source": [
    "# data = np.loadtxt('clustering1TestCase.txt',skiprows=1,dtype=int)\n",
    "data = np.loadtxt('clustering1.txt',skiprows=1,dtype=int)\n",
    "data[:,0:2] = data[:,0:2]-1 # map from 0 instead of 1\n",
    "data = data[np.argsort(data[:,2]),:]\n",
    "data"
   ]
  },
  {
   "cell_type": "code",
   "execution_count": 4,
   "metadata": {
    "scrolled": true
   },
   "outputs": [
    {
     "data": {
      "text/plain": [
       "11984"
      ]
     },
     "execution_count": 4,
     "metadata": {},
     "output_type": "execute_result"
    }
   ],
   "source": [
    "mstValue,mst,leaders,edgesLookedAt = kruskalsAlgorithmAndKClustering(data,k=4)\n",
    "mstValue"
   ]
  },
  {
   "cell_type": "code",
   "execution_count": 5,
   "metadata": {
    "scrolled": true
   },
   "outputs": [
    {
     "data": {
      "text/plain": [
       "106"
      ]
     },
     "execution_count": 5,
     "metadata": {},
     "output_type": "execute_result"
    }
   ],
   "source": [
    "findMaxSpacingOfKClusters(data,leaders,edgesLookedAt)"
   ]
  },
  {
   "cell_type": "markdown",
   "metadata": {},
   "source": [
    "## K Clustering"
   ]
  },
  {
   "cell_type": "code",
   "execution_count": 6,
   "metadata": {},
   "outputs": [],
   "source": [
    "# Load data and convert 1s and 0s to integer\n",
    "data = np.loadtxt('clustering_big.txt',skiprows=1,dtype=str)\n",
    "integers = []\n",
    "for ii in range(len(data)):\n",
    "    integers.append(int(''.join(data[ii,:]),2))"
   ]
  },
  {
   "cell_type": "code",
   "execution_count": 8,
   "metadata": {},
   "outputs": [],
   "source": [
    "# Build mapping of integers to nodes, a list of nodes is used because there may be multiple\n",
    "intToNodes = {}\n",
    "for ii,val in enumerate(integers):\n",
    "    if val not in intToNodes:\n",
    "        intToNodes[val] = [ii]\n",
    "    else:\n",
    "        nodeList = intToNodes[val]\n",
    "        nodeList.append(ii)\n",
    "        intToNodes.update({val:nodeList})   "
   ]
  },
  {
   "cell_type": "code",
   "execution_count": 9,
   "metadata": {},
   "outputs": [],
   "source": [
    "# Integers to Distances\n",
    "import itertools\n",
    "# Add 0\n",
    "intToDistance = {0:0}\n",
    "# Add 1\n",
    "n_bits = 24\n",
    "distance1 = [1 << ii for ii in range(n_bits)]\n",
    "for val in distance1:\n",
    "    if val not in intToDistance:\n",
    "        intToDistance[val] = 1\n",
    "# Add 2\n",
    "pairs = list(itertools.combinations(range(24),2))\n",
    "distance2 = [1 << bit1 ^ 1 << bit2 for bit1,bit2 in pairs]\n",
    "for val in distance2:\n",
    "    if val not in intToDistance:\n",
    "        intToDistance[val] = 2"
   ]
  },
  {
   "cell_type": "code",
   "execution_count": 91,
   "metadata": {
    "scrolled": true
   },
   "outputs": [],
   "source": [
    "# Initialize leaders as self and ranks as 0\n",
    "def kClustering(data,intToDistance,intToNodes,k=1):\n",
    "    mst = []\n",
    "    leaders = []\n",
    "    ranks = []\n",
    "    numEdges = 0\n",
    "    nodes = range(len(data))\n",
    "    numNodesMinus1 = len(nodes)-1\n",
    "    numOfClusters = len(nodes) \n",
    "    for node in nodes:\n",
    "        leaders.append(node)\n",
    "        ranks.append(0)\n",
    "\n",
    "    # Loop through all edges\n",
    "    for distInt,weight in intToDistance.items():\n",
    "        for bitInt,nodes1 in intToNodes.items():\n",
    "            # Look for a matching bitCode in the input nodes\n",
    "            bitCode = bitInt ^ distInt\n",
    "            if bitCode in intToNodes:\n",
    "                nodes2 = intToNodes[bitCode]\n",
    "                for node1 in nodes1:\n",
    "                    for node2 in nodes2:\n",
    "                        # find leaders\n",
    "                        leaderOfNode1 = find(leaders,node1)\n",
    "                        leaderOfNode2 = find(leaders,node2)\n",
    "                        if leaderOfNode1 != leaderOfNode2:\n",
    "                            numEdges +=1\n",
    "                            mst.append((node1,node2,weight))\n",
    "                            # update leaders and ranks\n",
    "                            union(leaders,ranks,leaderOfNode1,leaderOfNode2)\n",
    "                            numOfClusters-=1\n",
    "                            if numEdges == numNodesMinus1 or numOfClusters == k:\n",
    "                                return sum(np.asarray(mst)[:,2]),mst,leaders\n",
    "    print('Failed to find a MST increase k number of clusters')\n",
    "    return sum(np.asarray(mst)[:,2]),mst,leaders"
   ]
  },
  {
   "cell_type": "code",
   "execution_count": 92,
   "metadata": {},
   "outputs": [],
   "source": [
    "# Do a manual binary search to find what value of K completes the mst, checked 10000 which worked, 1 didn't,5000 didn't,7500 did, 6250 did, 6125 did, 6067 didnt, etc.\n",
    "val,mst,leaders = kClustering(data,intToDistance,intToNodes,k=6118)"
   ]
  },
  {
   "cell_type": "code",
   "execution_count": 56,
   "metadata": {},
   "outputs": [
    {
     "data": {
      "text/plain": [
       "6118"
      ]
     },
     "execution_count": 56,
     "metadata": {},
     "output_type": "execute_result"
    }
   ],
   "source": [
    "leaders = convertLeadersToClusters(leaders)\n",
    "len(set(leaders))"
   ]
  },
  {
   "cell_type": "code",
   "execution_count": 86,
   "metadata": {},
   "outputs": [],
   "source": [
    "import networkx as nx\n",
    "def kClusteringUF(data,intToDistance,intToNodes,k=1):\n",
    "    unionFind = nx.utils.UnionFind()\n",
    "    # Loop through all edges\n",
    "    for distInt,weight in intToDistance.items():\n",
    "        for bitInt,nodes1 in intToNodes.items():\n",
    "            # Look for a matching bitCode in the input nodes\n",
    "            bitCode = bitInt ^ distInt\n",
    "            if bitCode in intToNodes:\n",
    "                nodes2 = intToNodes[bitCode]\n",
    "                nodesToUnion = set(nodes1+nodes2)\n",
    "                unionFind.union(*nodesToUnion)\n",
    "    return unionFind"
   ]
  },
  {
   "cell_type": "code",
   "execution_count": 87,
   "metadata": {},
   "outputs": [
    {
     "data": {
      "text/plain": [
       "6118"
      ]
     },
     "execution_count": 87,
     "metadata": {},
     "output_type": "execute_result"
    }
   ],
   "source": [
    "unionFind = kClusteringUF(data,intToDistance,intToNodes)\n",
    "len(list(unionFind.to_sets()))"
   ]
  }
 ],
 "metadata": {
  "kernelspec": {
   "display_name": "Python 3",
   "language": "python",
   "name": "python3"
  },
  "language_info": {
   "codemirror_mode": {
    "name": "ipython",
    "version": 3
   },
   "file_extension": ".py",
   "mimetype": "text/x-python",
   "name": "python",
   "nbconvert_exporter": "python",
   "pygments_lexer": "ipython3",
   "version": "3.8.5"
  }
 },
 "nbformat": 4,
 "nbformat_minor": 4
}
