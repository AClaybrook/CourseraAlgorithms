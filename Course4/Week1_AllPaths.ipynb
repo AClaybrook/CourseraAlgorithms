{
 "cells": [
  {
   "cell_type": "code",
   "execution_count": 2,
   "metadata": {},
   "outputs": [],
   "source": [
    "import numpy as np\n",
    "import numpy as np\n",
    "import time\n",
    "from heapq import heappush, heappop\n",
    "\n",
    "def buildDiGraph(data):\n",
    "    \n",
    "    allUniqueNodes = np.unique(data[:,0:2]).astype(int).tolist()\n",
    "    G = {}\n",
    "    for ii,row in enumerate(data):\n",
    "        if row[0] not in G:\n",
    "            G[row[0]] = [(row[1],row[2])]\n",
    "        else:\n",
    "            nodeWeightList = G[row[0]]\n",
    "            nodeWeightList.append((row[1],row[2]))\n",
    "            G.update({row[0]:nodeWeightList})\n",
    "                \n",
    "    for node in allUniqueNodes:\n",
    "        if node not in G:\n",
    "            G.update({node:[(node,0)]})\n",
    "    return G\n",
    "\n",
    "\n",
    "def buildReversedDiGraph(data):\n",
    "    \n",
    "    allUniqueNodes = np.unique(data[:,0:2]).astype(int).tolist()\n",
    "    G = {}\n",
    "    temp = data[:,0].copy()\n",
    "    data[:,0] = data[:,1]\n",
    "    data[:,1] = temp\n",
    "    for ii,row in enumerate(data):\n",
    "        if row[0] not in G:\n",
    "            G[row[0]] = [(row[1],row[2])]\n",
    "        else:\n",
    "            nodeWeightList = G[row[0]]\n",
    "            nodeWeightList.append((row[1],row[2]))\n",
    "            G.update({row[0]:nodeWeightList})\n",
    "            \n",
    "    for node in allUniqueNodes:\n",
    "        if node not in G:\n",
    "            G.update({node:[(node,0)]})\n",
    "    return G \n",
    "def dijkstrasAlgorithm(G,source,destinations,defaultDistance=np.inf):\n",
    "\n",
    "    # Initialize\n",
    "    pathLengths = {node:defaultDistance for node in G}\n",
    "    pathLengths[source] = 0 # Stores distance to\n",
    "    seen = set() # Tracks seen nodes \n",
    "    heapMinDis = [(0,source)] # Used to quickly find min distance of explored nodes\n",
    "    \n",
    "    # While reachable nodes unexplored\n",
    "    while heapMinDis:\n",
    "        # Take a look at the next node\n",
    "        currentLength,node = heappop(heapMinDis)\n",
    "        \n",
    "        # Skip if seen before\n",
    "        if node in seen:\n",
    "            continue\n",
    "        seen.add(node)\n",
    "        \n",
    "        # Loop through edges to unseen nodes\n",
    "        for edge,edgeLength in G[node]:\n",
    "            # Skip if seen before\n",
    "            if edge in seen:\n",
    "                continue\n",
    "                \n",
    "            # Update best path and add to the heap to keep track of index\n",
    "            pathLength = currentLength+edgeLength\n",
    "            if pathLength < pathLengths[edge]:\n",
    "                pathLengths[edge] = pathLength \n",
    "                heappush(heapMinDis,(pathLength,edge))\n",
    "\n",
    "    return [pathLengths[destination] for destination in destinations]\n",
    "\n",
    "# Handles negative weight lengths, but O(mn) time and it can detect negative cycles\n",
    "def bellmanFord(G,GInDegree,start):\n",
    "    \n",
    "    nodes = G.keys()\n",
    "    n = len(nodes)\n",
    "    A = np.zeros((n+1,n))\n",
    "#     print(A.shape)\n",
    "    A[0,:] = np.inf\n",
    "    A[0,start] = 0\n",
    "        \n",
    "    # Run an extra iteration to detect a negative cycle\n",
    "    # Stop early\n",
    "    for ii in range(1,n+1):\n",
    "        repeatValues = True\n",
    "        for dest in nodes:\n",
    "            # local min\n",
    "            minWeight = min([A[ii-1,edge]+weight for edge,weight in GInDegree[dest]])\n",
    "            # min of local min and previously seen mins\n",
    "            if min([A[ii-1,dest],minWeight]) != A[ii,dest]: # if any value repeats then set repeat values to False\n",
    "                repeatValues=False\n",
    "            A[ii,dest] = min([A[ii-1,dest],minWeight])\n",
    "#         if repeatValues == True:\n",
    "#             print('Stopped early')\n",
    "#             break\n",
    "\n",
    "    # Check for negative cycle, if all values for i = n-1 does not equal n then there is negative cycle\n",
    "    if not all(A[n,:] == A[n-1,:]):\n",
    "        print('Negative cycle detected')\n",
    "        negativeCycleDetected = True\n",
    "    else:\n",
    "        negativeCycleDetected = False\n",
    "\n",
    "    return A,negativeCycleDetected\n",
    "\n",
    "# Load in data so into graphs\n",
    "def readData(fileName,shiftNodeValues=True,addExtraNodeWithZeroWeight=True):\n",
    "    # Load data\n",
    "    data = np.loadtxt(fileName,skiprows=1,dtype=int)\n",
    "    \n",
    "     # Shift so that nodes start at 0 and not 1, makes indexing easier\n",
    "    if shiftNodeValues==True:\n",
    "        data[:,0:2] = data[:,0:2]-1\n",
    "\n",
    "    # Needed for Johnson's Algorithm, all pairs shortest paths reweighting\n",
    "    if addExtraNodeWithZeroWeight == True:\n",
    "        allUniqueNodes = np.unique(data[:,0:2]).astype(int).tolist()\n",
    "        n = len(allUniqueNodes)\n",
    "        newNodeConnections = np.asarray([(n,node,0)for node in allUniqueNodes])\n",
    "        data = np.concatenate((data,newNodeConnections))\n",
    "        \n",
    "    # Build graph and reversed graph which is needed for Bellman-Ford's algorithm\n",
    "    G = buildDiGraph(data)\n",
    "    start = 0\n",
    "    GInDegree = buildReversedDiGraph(data)\n",
    "    return G,GInDegree        \n",
    "\n",
    "# All paths version using rewA = bellmanFord(G,GInDegree,start,stopEarly=False)eighting\n",
    "def johnsonsAlgorithm(fileName):\n",
    "    \n",
    "    # Add node with 0 weight to all other nodes, O(n)\n",
    "    G,GInDegree = readData(fileName,shiftNodeValues=True,addExtraNodeWithZeroWeight=True)\n",
    "    \n",
    "    # Run belman ford O(mn)\n",
    "    start = len(G)-1 # Start at added source node\n",
    "    A,negativeCycleDetected = bellmanFord(G,GInDegree,start)\n",
    "    \n",
    "    # If no negative cycle is detected\n",
    "    if not negativeCycleDetected:\n",
    "    \n",
    "        # Reweight nodes, O(m)\n",
    "        offsets = A[-1,:]\n",
    "        GReweight = {}\n",
    "        for node in G.keys():\n",
    "            newList = []\n",
    "            for dest,weight in G[node]:\n",
    "                newList.append((dest,weight+offsets[node]-offsets[dest]))\n",
    "            GReweight[node] = newList\n",
    "        # Run Dijkstras n times  O(mnlog(n))\n",
    "        # Convert back to correct weights, subtract added values O(n^2)\n",
    "        destinations = list(G.keys())\n",
    "        allPaths = []\n",
    "        for node in G.keys():\n",
    "            paths = dijkstrasAlgorithm(GReweight,node,destinations,defaultDistance=np.inf)\n",
    "            for dest,val in enumerate(paths):\n",
    "                paths[dest] += paths[dest]-offsets[node]+offsets[dest] \n",
    "            allPaths.append(paths)\n",
    "            allPathsArr = np.asarray(allPaths)[:,0:-1]\n",
    "        return allPathsArr\n",
    "    else:\n",
    "        return "
   ]
  },
  {
   "cell_type": "code",
   "execution_count": 3,
   "metadata": {},
   "outputs": [
    {
     "name": "stdout",
     "output_type": "stream",
     "text": [
      "Negative cycle detected\n"
     ]
    }
   ],
   "source": [
    "allPaths = johnsonsAlgorithm('g1.txt')"
   ]
  },
  {
   "cell_type": "code",
   "execution_count": 4,
   "metadata": {},
   "outputs": [
    {
     "name": "stdout",
     "output_type": "stream",
     "text": [
      "Negative cycle detected\n"
     ]
    }
   ],
   "source": [
    "allPaths = johnsonsAlgorithm('g2.txt')"
   ]
  },
  {
   "cell_type": "code",
   "execution_count": 5,
   "metadata": {},
   "outputs": [
    {
     "name": "stdout",
     "output_type": "stream",
     "text": [
      "57.979663610458374\n"
     ]
    }
   ],
   "source": [
    "t1 = time.time()\n",
    "allPaths = johnsonsAlgorithm('g3.txt')\n",
    "print(time.time()-t1)"
   ]
  },
  {
   "cell_type": "code",
   "execution_count": 6,
   "metadata": {},
   "outputs": [
    {
     "data": {
      "text/plain": [
       "-19.0"
      ]
     },
     "execution_count": 6,
     "metadata": {},
     "output_type": "execute_result"
    }
   ],
   "source": [
    "allPaths.min()"
   ]
  },
  {
   "cell_type": "code",
   "execution_count": null,
   "metadata": {},
   "outputs": [],
   "source": [
    "t1 = time.time()\n",
    "allPathsArr = johnsonsAlgorithm('large.txt')\n",
    "print(time.time()-t1)"
   ]
  },
  {
   "cell_type": "code",
   "execution_count": null,
   "metadata": {},
   "outputs": [],
   "source": []
  }
 ],
 "metadata": {
  "kernelspec": {
   "display_name": "Python 3",
   "language": "python",
   "name": "python3"
  },
  "language_info": {
   "codemirror_mode": {
    "name": "ipython",
    "version": 3
   },
   "file_extension": ".py",
   "mimetype": "text/x-python",
   "name": "python",
   "nbconvert_exporter": "python",
   "pygments_lexer": "ipython3",
   "version": "3.8.5"
  }
 },
 "nbformat": 4,
 "nbformat_minor": 4
}
