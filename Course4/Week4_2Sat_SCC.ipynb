{
 "cells": [
  {
   "cell_type": "markdown",
   "metadata": {},
   "source": [
    "The file format is as follows.  In each instance, the number of variables and the number of clauses is the same, and this number is specified on the first line of the file.  Each subsequent line specifies a clause via its two literals, with a number denoting the variable and a \"-\" sign denoting logical \"not\".  For example, the second line of the first data file is \"-16808 75250\", which indicates the clause \\neg x_{16808} \\vee x_{75250}¬x \n",
    "16808\n",
    "​\n",
    " ∨x \n",
    "75250\n",
    "​\n",
    " .\n",
    "\n",
    "Your task is to determine which of the 6 instances are satisfiable, and which are unsatisfiable.  In the box below, enter a 6-bit string, where the ith bit should be 1 if the ith instance is satisfiable, and 0 otherwise.  For example, if you think that the first 3 instances are satisfiable and the last 3 are not, then you should enter the string 111000 in the box below.\n",
    "\n",
    "DISCUSSION: This assignment is deliberately open-ended, and you can implement whichever 2SAT algorithm you want.  For example, 2SAT reduces to computing the strongly connected components of a suitable graph (with two vertices per variable and two directed edges per clause, you should think through the details).  This might be an especially attractive option for those of you who coded up an SCC algorithm in Part 2 of this specialization.  Alternatively, you can use Papadimitriou's randomized local search algorithm.  (The algorithm from lecture is probably too slow as stated, so you might want to make one or more simple modifications to it --- even if this means breaking the analysis given in lecture --- to ensure that it runs in a reasonable amount of time.)  A third approach is via backtracking.  In lecture we mentioned this approach only in passing; see Chapter 9 of the Dasgupta-Papadimitriou-Vazirani book, for example, for more details."
   ]
  },
  {
   "cell_type": "code",
   "execution_count": null,
   "metadata": {},
   "outputs": [],
   "source": [
    "import numpy as np\n",
    "import time"
   ]
  },
  {
   "cell_type": "code",
   "execution_count": null,
   "metadata": {},
   "outputs": [],
   "source": [
    "import numpy as np\n",
    "import networkx as nx\n",
    "import pandas as pd\n",
    "import sys\n",
    "from collections import Counter\n",
    "import time\n",
    "\n",
    "# depth first search for ssc\n",
    "def initializeDigraph(data):\n",
    "\n",
    "#     data = np.loadtxt(filename,dtype=int)\n",
    "    G = {}\n",
    "\n",
    "    allUniqueNodes = np.unique(data)\n",
    "    for row in range(len(data)):\n",
    "        node = data[row,0]\n",
    "        edge = data[row,1]\n",
    "        if node in G.keys():\n",
    "            nodeData = G[node]\n",
    "            edgeList = nodeData[1]\n",
    "            edgeList.append(edge)\n",
    "            G.update({node:(False,edgeList)})\n",
    "        else:\n",
    "            G.update({node:(False,[edge])})\n",
    "            \n",
    "    for node in allUniqueNodes:\n",
    "        if node not in G.keys():\n",
    "            G.update({node:(False,[node])})\n",
    "        \n",
    "    return G\n",
    "\n",
    "\n",
    "def reverseGraph(G):\n",
    "    data = []\n",
    "    for node,nodeData in G.items():\n",
    "        for edge in nodeData[1]:\n",
    "            data.append((edge,node))\n",
    "    data = np.asarray(data,dtype=int)\n",
    "    Grev = initializeDigraph(data)\n",
    "    return Grev\n",
    "\n",
    "\n",
    "def dfs_scc_stack_optimized(G,start,s,orderCounter,order,leader):\n",
    "    stack = np.zeros((len(G)*10,),dtype=int)\n",
    "    stack[0] = start\n",
    "    stackCounter = 0\n",
    "    while stackCounter >=0:\n",
    "        node = stack[stackCounter]\n",
    "        stackCounter -= 1\n",
    "        if not G[node][0]:\n",
    "            G.update({node:(True,G[node][1])})\n",
    "            leader[node-1] = s\n",
    "            stackCounter += 1\n",
    "            stack[stackCounter] = node\n",
    "            for edge in G[node][1][::-1]:\n",
    "                if not G[edge][0]:\n",
    "                    stackCounter += 1\n",
    "                    stack[stackCounter] = edge\n",
    "        else:\n",
    "            if node not in order:\n",
    "                order[orderCounter] = node\n",
    "                orderCounter +=1\n",
    "    return G,s,orderCounter,order,leader\n",
    "\n",
    "\n",
    "# subroutine\n",
    "\n",
    "def dfs_loop_stack_optimized(G,ordering=None):\n",
    "    orderCounter = 0\n",
    "    order = np.zeros((len(G,)),dtype=int)\n",
    "    leader = np.zeros((len(G,)),dtype=int)\n",
    "                     \n",
    "\n",
    "    # For pass 1 use nodes of graph in reverse order, for pass 2 use ordering\n",
    "    if ordering is None:\n",
    "        nodes = sorted(G.keys(),reverse=True)\n",
    "    else:\n",
    "        nodes = ordering\n",
    "\n",
    "    # Loop through nodes\n",
    "    for node in nodes:\n",
    "        if not G[node][0]:\n",
    "            s = node\n",
    "            leader[node-1] = s\n",
    "            G,s,orderCounter,order,leader = dfs_scc_stack_optimized(G,node,s,orderCounter,order,leader)\n",
    "    order = np.flip(order)\n",
    "    return order,leader\n",
    "\n",
    "\n",
    "def kosarajui_SSC_stack_initializePath(G):\n",
    "\n",
    "    \n",
    "\n",
    "    order,_ = dfs_loop_stack_optimized(reverseGraph(G.copy()))\n",
    "    print(order)\n",
    "    _,leader = dfs_loop_stack_optimized(G,ordering=order)\n",
    "    \n",
    "    \n",
    "    return leader"
   ]
  },
  {
   "cell_type": "code",
   "execution_count": null,
   "metadata": {},
   "outputs": [],
   "source": [
    "# Load data\n",
    "fileName = '2sat1.txt'\n",
    "fileName = '2sat2.txt'\n",
    "fileName = '2sat3.txt'\n",
    "# fileName = '2sat4.txt'\n",
    "# fileName = '2sat5.txt'\n",
    "# fileName = '2sat6.txt'\n",
    "data = np.loadtxt(fileName,skiprows=1,dtype=int) #float\n",
    "# data[:,0] = data[:,0]-1\n",
    "n = len(data)  \n",
    "print(n)\n",
    "data1 = data.copy()\n",
    "data1[:,0] = data[:,1]\n",
    "data1[:,1]  = data[:,0]\n",
    "data = np.concatenate((data,data1))\n",
    "len(data)"
   ]
  },
  {
   "cell_type": "code",
   "execution_count": 11,
   "metadata": {},
   "outputs": [],
   "source": [
    "# Read data\n",
    "# nodes = np.unique(data)\n",
    "# # Build \n",
    "# nodes = np.unique(np.concatenate((nodes,-1*nodes)))\n",
    "G = initializeDigraph(data)"
   ]
  },
  {
   "cell_type": "code",
   "execution_count": null,
   "metadata": {},
   "outputs": [],
   "source": [
    "numOfComponentsPerSCC = kosarajui_SSC_stack_initializePath(G)"
   ]
  },
  {
   "cell_type": "code",
   "execution_count": null,
   "metadata": {},
   "outputs": [],
   "source": [
    "numOfComponentsPerSCC"
   ]
  },
  {
   "cell_type": "code",
   "execution_count": null,
   "metadata": {},
   "outputs": [],
   "source": [
    "numOfComponentsPerSCC"
   ]
  },
  {
   "cell_type": "code",
   "execution_count": null,
   "metadata": {},
   "outputs": [],
   "source": []
  }
 ],
 "metadata": {
  "kernelspec": {
   "display_name": "Python 3",
   "language": "python",
   "name": "python3"
  },
  "language_info": {
   "codemirror_mode": {
    "name": "ipython",
    "version": 3
   },
   "file_extension": ".py",
   "mimetype": "text/x-python",
   "name": "python",
   "nbconvert_exporter": "python",
   "pygments_lexer": "ipython3",
   "version": "3.8.5"
  }
 },
 "nbformat": 4,
 "nbformat_minor": 4
}
