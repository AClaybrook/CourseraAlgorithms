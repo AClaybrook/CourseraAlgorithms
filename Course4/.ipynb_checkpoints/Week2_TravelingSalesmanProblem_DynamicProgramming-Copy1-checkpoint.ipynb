{
 "cells": [
  {
   "cell_type": "markdown",
   "metadata": {},
   "source": [
    "# Dynamic Programming Approach to the Traveling Salesman Problem\n",
    "\n",
    "Solution: Loop through all subsets sizes, loop through all subsets with that size that starts at the first node (1), loop through all destinations and check different paths to get there and save all previous results, at the end check all possible paths with all of the nodes and choose the shorest that leads back to the starting node"
   ]
  },
  {
   "cell_type": "markdown",
   "metadata": {},
   "source": [
    "The first line indicates the number of cities.  Each city is a point in the plane, and each subsequent line indicates the x- and y-coordinates of a single city.  \n",
    "\n",
    "The distance between two cities is defined as the Euclidean distance --- that is, two cities at locations (x,y)(x,y) and (z,w)(z,w) have distance \\sqrt{(x-z)^2 + (y-w)^2} \n",
    "(x−z) \n",
    "2\n",
    " +(y−w) \n",
    "2\n",
    " \n",
    "​\n",
    "  between them.  \n",
    "\n",
    "In the box below, type in the minimum cost of a traveling salesman tour for this instance, rounded down to the nearest integer.\n",
    "\n",
    "OPTIONAL: If you want bigger data sets to play with, check out the TSP instances from around the world here.  The smallest data set (Western Sahara) has 29 cities, and most of the data sets are much bigger than that.  What's the largest of these data sets that you're able to solve --- using dynamic programming or, if you like, a completely different method?\n",
    "\n",
    "HINT: You might experiment with ways to reduce the data set size.  For example, trying plotting the points.  Can you infer any structure of the optimal solution?  Can you use that structure to speed up your algorithm?"
   ]
  },
  {
   "cell_type": "code",
   "execution_count": 1,
   "metadata": {},
   "outputs": [],
   "source": [
    "import numpy as np\n",
    "import time\n",
    "from itertools import combinations    \n",
    "\n",
    "def getDistances(data):\n",
    "    # Get distances between cities\n",
    "    n = len(data)  \n",
    "    distances = {}\n",
    "    for ii in range(n):\n",
    "        for jj in range(n):\n",
    "            if ii != jj:\n",
    "                distances[(ii+1,jj+1)] = ((data[ii][0]-data[jj][0])**2+(data[ii][1]-data[jj][1])**2)**0.5\n",
    "    #         else:\n",
    "    #             distances[(ii,jj)] = 0\n",
    "    return distances\n",
    "\n",
    "def travelingSalesmanProblem(distances,n):\n",
    "    # Initialize Path Lengths\n",
    "    print(n)\n",
    "    A = {}\n",
    "    for m in range(1,n+1): # m = subproblem size\n",
    "        for S in combinations(range(1,n+1),m): # for each set of size m that contains 1\n",
    "            if S[0] == 1: # If set contains 1,the first element must be 1\n",
    "                A[S,1] = np.inf # Infinity Otherwise\n",
    "    A[(1,),1] = 0 # Distance to node 1 is 0, because we start there\n",
    "\n",
    "    # O(n^2*2^n)\n",
    "    # Start at node 1\n",
    "    t1 = time.time()\n",
    "    deltaT = 0\n",
    "\n",
    "    # Solve with dynamic programming\n",
    "    for m in range(1,n+1): # m = subproblem size\n",
    "        for S in combinations(range(1,n+1),m): # for each set of size m that contains 1\n",
    "            if S[0] == 1: # If set contains 1,the first element must be 1\n",
    "                for ii,j in enumerate(S): \n",
    "                    if j != 1: # Look at all ending destinations that aren't the start\n",
    "                        SWithoutJ = S[:ii]+S[ii+1:]\n",
    "                        A[S,j] = min([A[SWithoutJ,k]+distances[(k,j)] for k in S if k !=j])\n",
    "\n",
    "        print(m,time.time()-deltaT-t1)\n",
    "        deltaT = time.time()-t1\n",
    "    print('Total Time:',time.time()-t1)\n",
    "\n",
    "    minDis = min([A[tuple(range(1,n+1)),j]+ distances[(j,1)] for j in range(1,n) if j!=1])\n",
    "    return minDis"
   ]
  },
  {
   "cell_type": "code",
   "execution_count": 2,
   "metadata": {},
   "outputs": [
    {
     "data": {
      "text/plain": [
       "array([[0., 0.],\n",
       "       [4., 3.],\n",
       "       [4., 0.],\n",
       "       [0., 3.]])"
      ]
     },
     "execution_count": 2,
     "metadata": {},
     "output_type": "execute_result"
    }
   ],
   "source": [
    "# Load data\n",
    "fileName = 'tsptest.txt'\n",
    "# fileName = 'tsptest2.txt'\n",
    "# fileName = 'tsp.txt'\n",
    "data = np.loadtxt(fileName,skiprows=1,dtype=float) #float\n",
    "# data = data[0:8,:]\n",
    "n = len(data)  \n",
    "data"
   ]
  },
  {
   "cell_type": "code",
   "execution_count": 3,
   "metadata": {},
   "outputs": [
    {
     "data": {
      "text/plain": [
       "{(1, 2): 5.0,\n",
       " (1, 3): 4.0,\n",
       " (1, 4): 3.0,\n",
       " (2, 1): 5.0,\n",
       " (2, 3): 3.0,\n",
       " (2, 4): 4.0,\n",
       " (3, 1): 4.0,\n",
       " (3, 2): 3.0,\n",
       " (3, 4): 5.0,\n",
       " (4, 1): 3.0,\n",
       " (4, 2): 4.0,\n",
       " (4, 3): 5.0}"
      ]
     },
     "execution_count": 3,
     "metadata": {},
     "output_type": "execute_result"
    }
   ],
   "source": [
    "distances = getDistances(data)\n",
    "distances"
   ]
  },
  {
   "cell_type": "code",
   "execution_count": 4,
   "metadata": {},
   "outputs": [
    {
     "name": "stdout",
     "output_type": "stream",
     "text": [
      "4\n",
      "1 0.0\n",
      "2 0.0\n",
      "3 0.0\n",
      "4 0.0\n",
      "Total Time: 0.0\n"
     ]
    },
    {
     "data": {
      "text/plain": [
       "14.0"
      ]
     },
     "execution_count": 4,
     "metadata": {},
     "output_type": "execute_result"
    }
   ],
   "source": [
    "n = len(data)  \n",
    "travelingSalesmanProblem(distances,n)"
   ]
  },
  {
   "cell_type": "code",
   "execution_count": null,
   "metadata": {},
   "outputs": [],
   "source": []
  }
 ],
 "metadata": {
  "kernelspec": {
   "display_name": "Python 3",
   "language": "python",
   "name": "python3"
  },
  "language_info": {
   "codemirror_mode": {
    "name": "ipython",
    "version": 3
   },
   "file_extension": ".py",
   "mimetype": "text/x-python",
   "name": "python",
   "nbconvert_exporter": "python",
   "pygments_lexer": "ipython3",
   "version": "3.8.5"
  }
 },
 "nbformat": 4,
 "nbformat_minor": 4
}
