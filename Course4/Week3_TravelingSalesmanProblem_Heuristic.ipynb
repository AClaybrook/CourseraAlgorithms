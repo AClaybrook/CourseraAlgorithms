{
 "cells": [
  {
   "cell_type": "markdown",
   "metadata": {},
   "source": [
    "# Dynamic Programming Approach to the Traveling Salesman Problem\n",
    "\n",
    "Solution: Loop through all cities, pick the closest, remove that city from the list of available cities and repeat. Lastly, add the distance from the final city back to the start"
   ]
  },
  {
   "cell_type": "markdown",
   "metadata": {},
   "source": [
    "Question 1\n",
    "In this assignment we will revisit an old friend, the traveling salesman problem (TSP).  This week you will implement a heuristic for the TSP, rather than an exact algorithm, and as a result will be able to handle much larger problem sizes.  Here is a data file describing a TSP instance (original source: http://www.math.uwaterloo.ca/tsp/world/bm33708.tsp).\n",
    "\n",
    "nn\n",
    "TXT File\n",
    "Download file\n",
    "The first line indicates the number of cities. Each city is a point in the plane, and each subsequent line indicates the x- and y-coordinates of a single city.\n",
    "\n",
    "The distance between two cities is defined as the Euclidean distance --- that is, two cities at locations (x,y)(x,y) and (z,w)(z,w) have distance \\sqrt{(x-z)^2 + (y-w)^2} \n",
    "(x−z) \n",
    "2\n",
    " +(y−w) \n",
    "2\n",
    " \n",
    "​\n",
    "  between them.\n",
    "\n",
    "You should implement the nearest neighbor heuristic:\n",
    "\n",
    "Start the tour at the first city.\n",
    "\n",
    "Repeatedly visit the closest city that the tour hasn't visited yet.  In case of a tie, go to the closest city with the lowest index.  For example, if both the third and fifth cities have the same distance from the first city (and are closer than any other city), then the tour should begin by going from the first city to the third city.\n",
    "\n",
    "Once every city has been visited exactly once, return to the first city to complete the tour.\n",
    "\n",
    "In the box below, enter the cost of the traveling salesman tour computed by the nearest neighbor heuristic for this instance, rounded down to the nearest integer.\n",
    "\n",
    "[Hint: when constructing the tour, you might find it simpler to work with squared Euclidean distances (i.e., the formula above but without the square root) than Euclidean distances.  But don't forget to report the length of the tour in terms of standard Euclidean distance.]"
   ]
  },
  {
   "cell_type": "code",
   "execution_count": 279,
   "metadata": {},
   "outputs": [],
   "source": [
    "import numpy as np\n",
    "import time"
   ]
  },
  {
   "cell_type": "code",
   "execution_count": 280,
   "metadata": {},
   "outputs": [
    {
     "data": {
      "text/plain": [
       "(33708,\n",
       " array([[0.00000000e+00, 9.98333330e+03, 9.85500000e+04],\n",
       "        [1.00000000e+00, 1.00000000e+04, 9.85333333e+04],\n",
       "        [2.00000000e+00, 1.00000000e+04, 9.85500000e+04],\n",
       "        ...,\n",
       "        [3.37050000e+04, 2.81333333e+04, 9.77000000e+04],\n",
       "        [3.37060000e+04, 2.81666667e+04, 9.76666667e+04],\n",
       "        [3.37070000e+04, 2.81666667e+04, 9.76833333e+04]]))"
      ]
     },
     "execution_count": 280,
     "metadata": {},
     "output_type": "execute_result"
    }
   ],
   "source": [
    "# Load data\n",
    "fileName = 'nn.txt'\n",
    "data = np.loadtxt(fileName,skiprows=1,dtype=float) #float\n",
    "data[:,0] = data[:,0]-1\n",
    "n = len(data)  \n",
    "n,data"
   ]
  },
  {
   "cell_type": "code",
   "execution_count": 281,
   "metadata": {},
   "outputs": [
    {
     "data": {
      "text/plain": [
       "1203406.5012708856"
      ]
     },
     "execution_count": 281,
     "metadata": {},
     "output_type": "execute_result"
    }
   ],
   "source": [
    "X = data\n",
    "ii = 0\n",
    "totalDistance = 0\n",
    "\n",
    "city0 = X[ii,1:]\n",
    "while len(X[:,0]) >1:\n",
    "    city = X[ii,1:]\n",
    "    X = np.concatenate((X[:ii,:],X[ii+1:,:]))\n",
    "    diff = (city-X[:,1:])**2\n",
    "    dists = diff[:,0]+diff[:,1]\n",
    "    ii = np.argmin(dists)\n",
    "    totalDistance+=dists[ii]**0.5\n",
    "    \n",
    "# Add final hop\n",
    "city = X[ii,1:]\n",
    "diff = (city-city0)**2\n",
    "dist = diff[0]+diff[1]\n",
    "totalDistance+=dist**0.5\n",
    "totalDistance"
   ]
  },
  {
   "cell_type": "code",
   "execution_count": null,
   "metadata": {},
   "outputs": [],
   "source": [
    "# # Tried kda trees, which gave wrong answer (probably due to aribitary indexing in requirements of first city with the minimum length) and it was slower\n",
    "# from sklearn.neighbors import KDTree\n",
    "\n",
    "# # Fit data\n",
    "# X = data[:,1:]\n",
    "# tree = KDTree(X)\n",
    "\n",
    "# visitedCities = set([0])\n",
    "# totalDistance = 0\n",
    "# ii = 0\n",
    "# while len(visitedCities) < 10:\n",
    "#     numNeighborsToCheck = len(visitedCities)+1\n",
    "#     nearest_dist, nearest_ind = tree.query(np.asarray([X[ii]]), k=numNeighborsToCheck)  # k=2 nearest neighbors where k1 = identity\n",
    "#     jj = 1\n",
    "#     notFound = True\n",
    "#     while notFound:\n",
    "#         if nearest_ind[0,jj] not in visitedCities:\n",
    "#             visitedCities.add(nearest_ind[0,jj])\n",
    "#             totalDistance += nearest_dist[0,jj]\n",
    "#             notFound = False\n",
    "#             ii = nearest_ind[0,jj]\n",
    "#             print(ii,jj)\n",
    "#         else:\n",
    "#             jj+=1\n",
    "# totalDistance"
   ]
  }
 ],
 "metadata": {
  "kernelspec": {
   "display_name": "Python 3",
   "language": "python",
   "name": "python3"
  },
  "language_info": {
   "codemirror_mode": {
    "name": "ipython",
    "version": 3
   },
   "file_extension": ".py",
   "mimetype": "text/x-python",
   "name": "python",
   "nbconvert_exporter": "python",
   "pygments_lexer": "ipython3",
   "version": "3.8.5"
  }
 },
 "nbformat": 4,
 "nbformat_minor": 4
}
