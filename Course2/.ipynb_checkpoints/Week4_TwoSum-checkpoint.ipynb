{
 "cells": [
  {
   "cell_type": "code",
   "execution_count": 330,
   "metadata": {},
   "outputs": [],
   "source": [
    "import numpy as np\n",
    "import time\n",
    "def sortAndTrimData(data,tRange):\n",
    "    # Get numbers near each other\n",
    "    data = data[np.argsort(abs(data))]\n",
    "    keep = []\n",
    "    skip = False\n",
    "    absData = abs(data)\n",
    "    diffData = np.diff(absData)\n",
    "    \n",
    "    # Filter out if neighbors are more than tRange away\n",
    "    for ii in range(0,len(diffData)):\n",
    "        if skip:\n",
    "            skip = False\n",
    "        else:\n",
    "            if abs(diffData[ii]) <= tRange+1:\n",
    "                keep.append(True)\n",
    "                keep.append(True)\n",
    "                skip = True\n",
    "            else:\n",
    "                keep.append(False)\n",
    "    keep.append(True)\n",
    "    return data[keep]\n",
    "\n",
    "def twoSum(data,t,neededVals={}):\n",
    "    neededVals={}\n",
    "    for x in data:\n",
    "        y = t-x\n",
    "        \n",
    "        # If not seen and not previously used\n",
    "        if x not in neededVals:\n",
    "            neededVals[y] = x\n",
    "        # If previously seen but not  \n",
    "        elif x!=y:\n",
    "            return x,y\n",
    "        \n",
    "def twoSumInRange(x,data,tRange,found):\n",
    "    if len(data)>1:\n",
    "        bottomOfRange = tRange[0]\n",
    "        topOfRange = tRange[1]\n",
    "        for y in data:\n",
    "            if x!=y:\n",
    "                if x + y >= tRange[0] and x + y <= tRange[1] and x+y not in found:\n",
    "                    found[x+y] = (x,y)"
   ]
  },
  {
   "cell_type": "code",
   "execution_count": 324,
   "metadata": {},
   "outputs": [],
   "source": [
    "data=np.loadtxt('prob2sum.txt')\n",
    "tRange = 10000+10000\n",
    "data = sortAndTrimData(data,tRange)\n",
    "absData = abs(data[np.argsort(abs(data))])"
   ]
  },
  {
   "cell_type": "code",
   "execution_count": 333,
   "metadata": {},
   "outputs": [
    {
     "name": "stdout",
     "output_type": "stream",
     "text": [
      "427\n"
     ]
    },
    {
     "data": {
      "text/plain": [
       "1.9337592124938965"
      ]
     },
     "execution_count": 333,
     "metadata": {},
     "output_type": "execute_result"
    }
   ],
   "source": [
    "# Fast way, but technically worse, but this works well on the dataset\n",
    "t1 = time.time()\n",
    "tRange = [-10000,10000]\n",
    "found = {}\n",
    "for ii,x in enumerate(absData):\n",
    "    # Two binary searches to find that indices \n",
    "    start = np.searchsorted(absData, x+tRange[0], 'left')\n",
    "    end = np.searchsorted(absData, x+tRange[1], 'right')\n",
    "    indicesToCheck = np.arange(start, end)\n",
    "    dataTemp = data[indicesToCheck]\n",
    "    twoSumInRange(data[ii],dataTemp,tRange,found)\n",
    "print(len(found))\n",
    "time.time()-t1"
   ]
  },
  {
   "cell_type": "code",
   "execution_count": 327,
   "metadata": {
    "scrolled": true
   },
   "outputs": [
    {
     "name": "stdout",
     "output_type": "stream",
     "text": [
      "427\n"
     ]
    },
    {
     "data": {
      "text/plain": [
       "2607.511738061905"
      ]
     },
     "execution_count": 327,
     "metadata": {},
     "output_type": "execute_result"
    }
   ],
   "source": [
    "# Slow way\n",
    "t1 = time.time()\n",
    "found = {}\n",
    "for t in range(-10000,10000):\n",
    "    xy = twoSum(data,t)\n",
    "    if xy:\n",
    "        found[t] = xy\n",
    "print(len(found))\n",
    "time.time()-t1"
   ]
  },
  {
   "cell_type": "code",
   "execution_count": null,
   "metadata": {},
   "outputs": [],
   "source": []
  }
 ],
 "metadata": {
  "kernelspec": {
   "display_name": "Python 3",
   "language": "python",
   "name": "python3"
  },
  "language_info": {
   "codemirror_mode": {
    "name": "ipython",
    "version": 3
   },
   "file_extension": ".py",
   "mimetype": "text/x-python",
   "name": "python",
   "nbconvert_exporter": "python",
   "pygments_lexer": "ipython3",
   "version": "3.8.5"
  }
 },
 "nbformat": 4,
 "nbformat_minor": 4
}
