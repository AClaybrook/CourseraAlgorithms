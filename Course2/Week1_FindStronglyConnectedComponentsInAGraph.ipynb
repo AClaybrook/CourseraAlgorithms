{
 "cells": [
  {
   "cell_type": "code",
   "execution_count": 202,
   "metadata": {},
   "outputs": [],
   "source": [
    "# import numpy as np\n",
    "# import networkx as nx\n",
    "# import pandas as pd\n",
    "# import sys\n",
    "# from collections import Counter\n",
    "# import time\n",
    "# from numba import jit\n",
    "# from numba.typed import Dict\n",
    "# from numba.typed import List\n",
    "\n",
    "\n",
    "\n",
    "# # @jit(nopython=True)\n",
    "# # def initializeDigraph(data):\n",
    "# # #     G = {}\n",
    "# #     G = Dict.empty(\n",
    "# #         key_type=types.unicode_type,\n",
    "# #         value_type=types.int32[:],\n",
    "# #     )\n",
    "# #     allUniqueNodes = np.unique(data)\n",
    "# #     for row in range(len(data)):\n",
    "# #         node = data[row,0]\n",
    "# #         edge = data[row,1]\n",
    "# #         if node in G.keys():\n",
    "            \n",
    "# #             G.setdefault(node,List()).append(edge)\n",
    "\n",
    "# #         else:\n",
    "# #             G.update({node:[edge]})\n",
    "            \n",
    "# #     for node in allUniqueNodes:\n",
    "# #         if node not in G.keys():\n",
    "# #             G.update({node:[node]})\n",
    "        \n",
    "# #     return G\n",
    "\n",
    "# def initializeDigraph(data=None):\n",
    "\n",
    "#     G = {}\n",
    " \n",
    "#     allUniqueNodes = np.unique(data)\n",
    "#     for row in range(len(data)):\n",
    "#         node = data[row,0]\n",
    "#         edge = data[row,1]\n",
    "#         if node in G.keys():\n",
    "            \n",
    "#             G.setdefault(node,[]).append(edge)\n",
    "\n",
    "#         else:\n",
    "#             G.update({node:[edge]})\n",
    "            \n",
    "#     for node in allUniqueNodes:\n",
    "#         if node not in G.keys():\n",
    "#             G.update({node:[node]})\n",
    "        \n",
    "#     return G\n",
    "\n",
    "# # depth first search\n",
    "# def dfs(G,node,path=[]):\n",
    "#     path.append(node)\n",
    "#     for edge in G[node]:\n",
    "#         if edge not in path:\n",
    "#             dfs(G,edge,path)\n",
    "#     return path\n",
    "\n",
    "# # dfs using a stack\n",
    "# def dfs_stack(G,start):\n",
    "#     stack,path = [start],[]\n",
    "#     while stack:\n",
    "#         node = stack.pop()\n",
    "#         if node not in path:\n",
    "#             path.append(node)\n",
    "#         for edge in G[node]:\n",
    "#             if edge not in path:\n",
    "#                 stack.append(edge)\n",
    "#     return path\n",
    "\n",
    "# def reverseGraph(G):\n",
    "#     data = []\n",
    "#     for node,edges in G.items():\n",
    "#         for edge in edges:\n",
    "#             data.append((edge,node))\n",
    "#     data = np.asarray(data,dtype=int)\n",
    "\n",
    "#     Grev = initializeDigraph(data)\n",
    "#     return Grev\n",
    "\n",
    "\n",
    "# ###############\n",
    "\n",
    "\n",
    "\n",
    "# def kosarajui_SSC(G):\n",
    "#     # subroutine\n",
    "#     def dfs_loop(G,ordering=None):\n",
    "#         global s\n",
    "\n",
    "#         # Initialize path\n",
    "#         path = []\n",
    "\n",
    "#         # For pass 1 use nodes of graph in reverse order, for pass 2 use ordering\n",
    "#         if ordering is None:\n",
    "#             nodes = sorted(G.keys(),reverse=True)\n",
    "#         else:\n",
    "#             nodes = ordering\n",
    "\n",
    "#         # Loop through nodes\n",
    "#         for node in nodes:\n",
    "#             if node not in path:\n",
    "#                 s = node\n",
    "#                 path = dfs_scc(G,node,path=path)\n",
    "\n",
    "    \n",
    "#     # depth first search for ssc\n",
    "#     def dfs_scc(G,node,path=[]):\n",
    "#         global order,leader\n",
    "#         # Append node to path\n",
    "#         path.append(node)\n",
    "#         leader[node] = s\n",
    "#         # Call dfs again on unexplored nodes\n",
    "#         for edge in G[node]:\n",
    "#             if edge not in path:\n",
    "#                 dfs_scc(G,edge,path=path)\n",
    "#         order = [node] + order\n",
    "#         return path\n",
    "    \n",
    "\n",
    "#     global leader,order,count,s\n",
    "#     s = None\n",
    "#     order = []\n",
    "#     leader = {}\n",
    "#     # run dfs on reversed edges of graph\n",
    "#     dfs_loop(reverseGraph(G))\n",
    "#     print(order)\n",
    "#     # run dfs on original graph, go through nodes in decreasing order of finishing\n",
    "#     leader = {}\n",
    "#     dfs_loop(G,ordering=order)\n",
    "#     leaders = [leader[node] for node in G.keys()]\n",
    "    \n",
    "    \n",
    "#     return leaders\n",
    "\n",
    "# def kosarajui_SSC_stack(G):\n",
    "#     # subroutine\n",
    "#     def dfs_loop_stack(G,ordering=None):\n",
    "#         global s\n",
    "\n",
    "#         # Initialize path\n",
    "#         path = []\n",
    "\n",
    "#         # For pass 1 use nodes of graph in reverse order, for pass 2 use ordering\n",
    "#         if ordering is None:\n",
    "#             nodes = sorted(G.keys(),reverse=True)\n",
    "#         else:\n",
    "#             nodes = ordering\n",
    "\n",
    "#         # Loop through nodes\n",
    "#         for node in nodes:\n",
    "#             if node not in path:\n",
    "#                 s = node\n",
    "#                 leader[node] = s\n",
    "#                 path = dfs_scc_stack(G,node,path=path)\n",
    "\n",
    "\n",
    "#     # depth first search for ssc\n",
    "#     def dfs_scc_stack(G,start,path=[]):\n",
    "#         global order,leader,s\n",
    "#         stack = [start]\n",
    "#         while stack:\n",
    "#             node = stack.pop()\n",
    "#             if node not in path:\n",
    "#                 path.append(node)\n",
    "#                 leader[node] = s\n",
    "#                 stack.append(node)\n",
    "#                 for edge in G[node][::-1]:\n",
    "#                     if edge not in path:\n",
    "#                         stack.append(edge)\n",
    "#             else:\n",
    "#                 if node not in order:\n",
    "#                     order = [node] + order\n",
    "#         return path   \n",
    "\n",
    "#     global leader,order,count,s\n",
    "#     s = None\n",
    "#     order = []\n",
    "#     leader = {}\n",
    "#     # run dfs on reversed edges of graph\n",
    "#     dfs_loop_stack(reverseGraph(G))\n",
    "#     leader = {}\n",
    "#     dfs_loop_stack(G,ordering=order)\n",
    "#     leaders = [leader[node] for node in G.keys()]\n",
    "    \n",
    "    \n",
    "#     return leaders\n",
    "\n",
    "\n",
    "\n",
    "    \n",
    "    "
   ]
  },
  {
   "cell_type": "code",
   "execution_count": 132,
   "metadata": {},
   "outputs": [],
   "source": [
    "\n",
    "\n",
    "\n",
    "# # depth first search for ssc\n",
    "# @jit(nopython=True)\n",
    "# def dfs_scc_stack_optimized(G,start,order,leader,s,pathCounter,path,orderCounter):\n",
    "#     stack = [start]\n",
    "#     while stack:\n",
    "#         node = stack.pop()\n",
    "#         if node not in path:\n",
    "#             path[pathCounter] = node\n",
    "#             pathCounter +=1\n",
    "#             leader[node-1] = s\n",
    "#             stack.append(node)\n",
    "#             for edge in G[node][::-1]:\n",
    "#                 if edge not in path:\n",
    "#                     stack.append(edge)\n",
    "#         else:\n",
    "#             if node not in order:\n",
    "#                 order[orderCounter] = node\n",
    "#                 orderCounter -=1\n",
    "#     return order,leader,s,pathCounter,path,orderCounter\n",
    "\n",
    "\n",
    "\n",
    "\n",
    "\n",
    "# # subroutine\n",
    "# @jit(nopython=True)\n",
    "# def dfs_loop_stack_optimized(G,ordering=None):\n",
    "#     s = 0\n",
    "#     orderCounter = -1\n",
    "#     pathCounter = 0\n",
    "\n",
    "#     # Initialize path\n",
    "#     path = np.zeros((len(G),),dtype=int)\n",
    "#     leader = np.zeros((len(G),),dtype=int)\n",
    "#     order = np.zeros((len(G),),dtype=int)\n",
    "\n",
    "#     # For pass 1 use nodes of graph in reverse order, for pass 2 use ordering\n",
    "#     if ordering is None:\n",
    "#         nodes = sorted(G.keys(),reverse=True)\n",
    "#     else:\n",
    "#         nodes = ordering\n",
    "\n",
    "#     # Loop through nodes\n",
    "#     for node in nodes:\n",
    "#         if node not in path:\n",
    "#             s = node\n",
    "#             leader[node-1] = s\n",
    "#             order,leader,s,pathCounter,path,orderCounter = dfs_scc_stack_optimized(G,node,order,leader,s,pathCounter,path,orderCounter)\n",
    "#     return order,leader,s,pathCounter,path,orderCounter\n",
    "\n",
    "\n",
    "# @jit(nopython=True)\n",
    "# def kosarajui_SSC_stack_initializePath(G,Grev):\n",
    "\n",
    "\n",
    "\n",
    "#     order,leader,s,pathCounter,path,orderCounter = dfs_loop_stack_optimized(Grev)\n",
    "# #     print('Loop1 Done')\n",
    "#     order,leader,s,pathCounter,path,orderCounter = dfs_loop_stack_optimized(G,ordering=order)\n",
    "#     leaders = [leader[node-1] for node in G.keys()]\n",
    "    \n",
    "    \n",
    "#     return leaders"
   ]
  },
  {
   "cell_type": "code",
   "execution_count": 5,
   "metadata": {},
   "outputs": [],
   "source": [
    "import numpy as np\n",
    "import networkx as nx\n",
    "import pandas as pd\n",
    "import sys\n",
    "from collections import Counter\n",
    "import time\n",
    "\n",
    "# depth first search for ssc\n",
    "def initializeDigraph(data):\n",
    "\n",
    "#     data = np.loadtxt(filename,dtype=int)\n",
    "    G = {}\n",
    "\n",
    "    allUniqueNodes = np.unique(data)\n",
    "    for row in range(len(data)):\n",
    "        node = data[row,0]\n",
    "        edge = data[row,1]\n",
    "        if node in G.keys():\n",
    "            nodeData = G[node]\n",
    "            edgeList = nodeData[1]\n",
    "            edgeList.append(edge)\n",
    "            G.update({node:(False,edgeList)})\n",
    "        else:\n",
    "            G.update({node:(False,[edge])})\n",
    "            \n",
    "    for node in allUniqueNodes:\n",
    "        if node not in G.keys():\n",
    "            G.update({node:(False,[node])})\n",
    "        \n",
    "    return G\n",
    "\n",
    "\n",
    "def reverseGraph(G):\n",
    "    data = []\n",
    "    for node,nodeData in G.items():\n",
    "        for edge in nodeData[1]:\n",
    "            data.append((edge,node))\n",
    "    data = np.asarray(data,dtype=int)\n",
    "    Grev = initializeDigraph(data)\n",
    "    return Grev\n",
    "\n",
    "\n",
    "def dfs_scc_stack_optimized(G,start,s,orderCounter,order,leader):\n",
    "    stack = np.zeros((len(G)*10,),dtype=int)\n",
    "    stack[0] = start\n",
    "    stackCounter = 0\n",
    "    while stackCounter >=0:\n",
    "        node = stack[stackCounter]\n",
    "        stackCounter -= 1\n",
    "        if not G[node][0]:\n",
    "            G.update({node:(True,G[node][1])})\n",
    "            leader[node-1] = s\n",
    "            stackCounter += 1\n",
    "            stack[stackCounter] = node\n",
    "            for edge in G[node][1][::-1]:\n",
    "                if not G[edge][0]:\n",
    "                    stackCounter += 1\n",
    "                    stack[stackCounter] = edge\n",
    "        else:\n",
    "            if node not in order:\n",
    "                order[orderCounter] = node\n",
    "                orderCounter +=1\n",
    "    return G,s,orderCounter,order,leader\n",
    "\n",
    "\n",
    "# subroutine\n",
    "\n",
    "def dfs_loop_stack_optimized(G,ordering=None):\n",
    "    orderCounter = 0\n",
    "    order = np.zeros((len(G,)),dtype=int)\n",
    "    leader = np.zeros((len(G,)),dtype=int)\n",
    "                     \n",
    "\n",
    "    # For pass 1 use nodes of graph in reverse order, for pass 2 use ordering\n",
    "    if ordering is None:\n",
    "        nodes = sorted(G.keys(),reverse=True)\n",
    "    else:\n",
    "        nodes = ordering\n",
    "\n",
    "    # Loop through nodes\n",
    "    for node in nodes:\n",
    "        if not G[node][0]:\n",
    "            s = node\n",
    "            leader[node-1] = s\n",
    "            G,s,orderCounter,order,leader = dfs_scc_stack_optimized(G,node,s,orderCounter,order,leader)\n",
    "    order = np.flip(order)\n",
    "    return order,leader\n",
    "\n",
    "\n",
    "def kosarajui_SSC_stack_initializePath(G):\n",
    "\n",
    "    \n",
    "\n",
    "    order,_ = dfs_loop_stack_optimized(reverseGraph(G.copy()))\n",
    "    print(order)\n",
    "    _,leader = dfs_loop_stack_optimized(G,ordering=order)\n",
    "    \n",
    "    \n",
    "    return leader"
   ]
  },
  {
   "cell_type": "code",
   "execution_count": 252,
   "metadata": {},
   "outputs": [],
   "source": [
    "G = nx.read_edgelist('SCC.txt',create_using=nx.DiGraph)"
   ]
  },
  {
   "cell_type": "code",
   "execution_count": 256,
   "metadata": {},
   "outputs": [
    {
     "data": {
      "text/plain": [
       "875714"
      ]
     },
     "execution_count": 256,
     "metadata": {},
     "output_type": "execute_result"
    }
   ],
   "source": [
    "# len(G.edges())\n",
    "len(G.nodes())"
   ]
  },
  {
   "cell_type": "markdown",
   "metadata": {},
   "source": [
    "# Using nx"
   ]
  },
  {
   "cell_type": "code",
   "execution_count": 146,
   "metadata": {},
   "outputs": [
    {
     "name": "stdout",
     "output_type": "stream",
     "text": [
      "434821\n",
      "968\n",
      "459\n",
      "313\n",
      "211\n"
     ]
    }
   ],
   "source": [
    "# nx's answer\n",
    "G = nx.read_edgelist('SCC.txt',create_using=nx.DiGraph)\n",
    "for c in sorted(nx.strongly_connected_components(G), key=len, reverse=True)[0:5]:\n",
    "    print(len(c))"
   ]
  },
  {
   "cell_type": "markdown",
   "metadata": {},
   "source": [
    "# Test Cases"
   ]
  },
  {
   "cell_type": "code",
   "execution_count": 17,
   "metadata": {},
   "outputs": [
    {
     "data": {
      "text/plain": [
       "{'s': ['a', 'b'],\n",
       " 'a': ['b', 'c'],\n",
       " 'b': ['s', 'a'],\n",
       " 'c': ['a', 'd'],\n",
       " 'd': ['b', 'c', 'e'],\n",
       " 'e': ['c', 'd']}"
      ]
     },
     "execution_count": 17,
     "metadata": {},
     "output_type": "execute_result"
    }
   ],
   "source": [
    "Gtest = {'s':['a','b'],'a':['b','c'],'b':['s','a'],'c':['a','d'],'d':['b','c','e'],'e':['c','d']}\n",
    "Gtest"
   ]
  },
  {
   "cell_type": "code",
   "execution_count": 18,
   "metadata": {},
   "outputs": [
    {
     "data": {
      "text/plain": [
       "['s', 'a', 'b', 'c', 'd', 'e']"
      ]
     },
     "execution_count": 18,
     "metadata": {},
     "output_type": "execute_result"
    }
   ],
   "source": [
    "path = dfs(Gtest,'s',path=[])\n",
    "path"
   ]
  },
  {
   "cell_type": "code",
   "execution_count": 19,
   "metadata": {},
   "outputs": [
    {
     "data": {
      "text/plain": [
       "['s', 'b', 'a', 'c', 'd', 'e']"
      ]
     },
     "execution_count": 19,
     "metadata": {},
     "output_type": "execute_result"
    }
   ],
   "source": [
    "path = dfs_stack(Gtest,'s')\n",
    "path"
   ]
  },
  {
   "cell_type": "code",
   "execution_count": 20,
   "metadata": {},
   "outputs": [
    {
     "data": {
      "text/plain": [
       "{1: [5], 2: [3], 3: [4], 4: [5, 2], 5: [6], 6: [9, 1], 7: [8], 8: [9], 9: [7]}"
      ]
     },
     "execution_count": 20,
     "metadata": {},
     "output_type": "execute_result"
    }
   ],
   "source": [
    "Gtest = {1:[5],2:[3],3:[4],4:[5,2],5:[6],6:[9,1],7:[8],8:[9],9:[7]}\n",
    "Gtest"
   ]
  },
  {
   "cell_type": "code",
   "execution_count": 247,
   "metadata": {},
   "outputs": [
    {
     "data": {
      "text/plain": [
       "{1: (False, [2]),\n",
       " 2: (False, [3, 4, 5]),\n",
       " 3: (False, [6]),\n",
       " 4: (False, [5, 7]),\n",
       " 5: (False, [2, 6, 7]),\n",
       " 6: (False, [3, 8]),\n",
       " 7: (False, [8, 10]),\n",
       " 8: (False, [7]),\n",
       " 9: (False, [7]),\n",
       " 10: (False, [9, 11]),\n",
       " 11: (False, [12]),\n",
       " 12: (False, [10])}"
      ]
     },
     "execution_count": 247,
     "metadata": {},
     "output_type": "execute_result"
    }
   ],
   "source": [
    "data = np.loadtxt('scctest5.txt',dtype=int)\n",
    "G = initializeDigraph(data)\n",
    "G"
   ]
  },
  {
   "cell_type": "code",
   "execution_count": 166,
   "metadata": {},
   "outputs": [
    {
     "ename": "TypeError",
     "evalue": "unhashable type: 'list'",
     "output_type": "error",
     "traceback": [
      "\u001b[1;31m---------------------------------------------------------------------------\u001b[0m",
      "\u001b[1;31mTypeError\u001b[0m                                 Traceback (most recent call last)",
      "\u001b[1;32m<ipython-input-166-066d7570e152>\u001b[0m in \u001b[0;36m<module>\u001b[1;34m\u001b[0m\n\u001b[0;32m      2\u001b[0m \u001b[0mg\u001b[0m\u001b[1;33m.\u001b[0m\u001b[0madd_nodes_from\u001b[0m\u001b[1;33m(\u001b[0m\u001b[0mG\u001b[0m\u001b[1;33m.\u001b[0m\u001b[0mkeys\u001b[0m\u001b[1;33m(\u001b[0m\u001b[1;33m)\u001b[0m\u001b[1;33m)\u001b[0m\u001b[1;33m\u001b[0m\u001b[1;33m\u001b[0m\u001b[0m\n\u001b[0;32m      3\u001b[0m \u001b[1;32mfor\u001b[0m \u001b[0mk\u001b[0m\u001b[1;33m,\u001b[0m \u001b[0mv\u001b[0m \u001b[1;32min\u001b[0m \u001b[0mG\u001b[0m\u001b[1;33m.\u001b[0m\u001b[0mitems\u001b[0m\u001b[1;33m(\u001b[0m\u001b[1;33m)\u001b[0m\u001b[1;33m:\u001b[0m\u001b[1;33m\u001b[0m\u001b[1;33m\u001b[0m\u001b[0m\n\u001b[1;32m----> 4\u001b[1;33m     \u001b[0mg\u001b[0m\u001b[1;33m.\u001b[0m\u001b[0madd_edges_from\u001b[0m\u001b[1;33m(\u001b[0m\u001b[1;33m(\u001b[0m\u001b[1;33m[\u001b[0m\u001b[1;33m(\u001b[0m\u001b[0mk\u001b[0m\u001b[1;33m,\u001b[0m \u001b[0mt\u001b[0m\u001b[1;33m)\u001b[0m \u001b[1;32mfor\u001b[0m \u001b[0mt\u001b[0m \u001b[1;32min\u001b[0m \u001b[0mv\u001b[0m\u001b[1;33m]\u001b[0m\u001b[1;33m)\u001b[0m\u001b[1;33m)\u001b[0m\u001b[1;33m\u001b[0m\u001b[1;33m\u001b[0m\u001b[0m\n\u001b[0m",
      "\u001b[1;32m~\\anaconda3\\lib\\site-packages\\networkx\\classes\\digraph.py\u001b[0m in \u001b[0;36madd_edges_from\u001b[1;34m(self, ebunch_to_add, **attr)\u001b[0m\n\u001b[0;32m    689\u001b[0m                 \u001b[0mself\u001b[0m\u001b[1;33m.\u001b[0m\u001b[0m_pred\u001b[0m\u001b[1;33m[\u001b[0m\u001b[0mu\u001b[0m\u001b[1;33m]\u001b[0m \u001b[1;33m=\u001b[0m \u001b[0mself\u001b[0m\u001b[1;33m.\u001b[0m\u001b[0madjlist_inner_dict_factory\u001b[0m\u001b[1;33m(\u001b[0m\u001b[1;33m)\u001b[0m\u001b[1;33m\u001b[0m\u001b[1;33m\u001b[0m\u001b[0m\n\u001b[0;32m    690\u001b[0m                 \u001b[0mself\u001b[0m\u001b[1;33m.\u001b[0m\u001b[0m_node\u001b[0m\u001b[1;33m[\u001b[0m\u001b[0mu\u001b[0m\u001b[1;33m]\u001b[0m \u001b[1;33m=\u001b[0m \u001b[0mself\u001b[0m\u001b[1;33m.\u001b[0m\u001b[0mnode_attr_dict_factory\u001b[0m\u001b[1;33m(\u001b[0m\u001b[1;33m)\u001b[0m\u001b[1;33m\u001b[0m\u001b[1;33m\u001b[0m\u001b[0m\n\u001b[1;32m--> 691\u001b[1;33m             \u001b[1;32mif\u001b[0m \u001b[0mv\u001b[0m \u001b[1;32mnot\u001b[0m \u001b[1;32min\u001b[0m \u001b[0mself\u001b[0m\u001b[1;33m.\u001b[0m\u001b[0m_succ\u001b[0m\u001b[1;33m:\u001b[0m\u001b[1;33m\u001b[0m\u001b[1;33m\u001b[0m\u001b[0m\n\u001b[0m\u001b[0;32m    692\u001b[0m                 \u001b[0mself\u001b[0m\u001b[1;33m.\u001b[0m\u001b[0m_succ\u001b[0m\u001b[1;33m[\u001b[0m\u001b[0mv\u001b[0m\u001b[1;33m]\u001b[0m \u001b[1;33m=\u001b[0m \u001b[0mself\u001b[0m\u001b[1;33m.\u001b[0m\u001b[0madjlist_inner_dict_factory\u001b[0m\u001b[1;33m(\u001b[0m\u001b[1;33m)\u001b[0m\u001b[1;33m\u001b[0m\u001b[1;33m\u001b[0m\u001b[0m\n\u001b[0;32m    693\u001b[0m                 \u001b[0mself\u001b[0m\u001b[1;33m.\u001b[0m\u001b[0m_pred\u001b[0m\u001b[1;33m[\u001b[0m\u001b[0mv\u001b[0m\u001b[1;33m]\u001b[0m \u001b[1;33m=\u001b[0m \u001b[0mself\u001b[0m\u001b[1;33m.\u001b[0m\u001b[0madjlist_inner_dict_factory\u001b[0m\u001b[1;33m(\u001b[0m\u001b[1;33m)\u001b[0m\u001b[1;33m\u001b[0m\u001b[1;33m\u001b[0m\u001b[0m\n",
      "\u001b[1;31mTypeError\u001b[0m: unhashable type: 'list'"
     ]
    }
   ],
   "source": [
    "g = nx.DiGraph()\n",
    "g.add_nodes_from(G.keys())\n",
    "for k, v in G.items():\n",
    "    g.add_edges_from(([(k, t) for t in v]))"
   ]
  },
  {
   "cell_type": "code",
   "execution_count": 167,
   "metadata": {},
   "outputs": [
    {
     "data": {
      "image/png": "[encoded data removed]",
      "text/plain": [
       "<Figure size 432x288 with 2 Axes>"
      ]
     },
     "metadata": {},
     "output_type": "display_data"
    }
   ],
   "source": [
    "import matplotlib.pyplot as plt\n",
    "subax1 = plt.subplot(121)\n",
    "nx.draw(g,labels={n:n for n in g.nodes()})   # default spring_layout\n",
    "subax2 = plt.subplot(122)\n",
    "nx.draw(g, pos=nx.circular_layout(g), node_color='r', edge_color='b',labels={n:n for n in g.nodes()})"
   ]
  },
  {
   "cell_type": "code",
   "execution_count": 218,
   "metadata": {},
   "outputs": [
    {
     "data": {
      "text/plain": [
       "{2: (False, [1, 5]),\n",
       " 3: (False, [2, 6]),\n",
       " 4: (False, [2]),\n",
       " 5: (False, [2, 4]),\n",
       " 6: (False, [3, 5]),\n",
       " 7: (False, [4, 5, 8, 9]),\n",
       " 8: (False, [6, 7]),\n",
       " 10: (False, [7, 12]),\n",
       " 9: (False, [10]),\n",
       " 11: (False, [10]),\n",
       " 12: (False, [11]),\n",
       " 1: (False, [1])}"
      ]
     },
     "execution_count": 218,
     "metadata": {},
     "output_type": "execute_result"
    }
   ],
   "source": [
    "reverseGraph(G)"
   ]
  },
  {
   "cell_type": "code",
   "execution_count": 248,
   "metadata": {
    "scrolled": false
   },
   "outputs": [
    {
     "name": "stdout",
     "output_type": "stream",
     "text": [
      "12\n",
      "11\n",
      "10\n",
      "7\n",
      "4\n",
      "2\n",
      "1\n",
      "1\n",
      "5\n",
      "5\n",
      "2\n",
      "4\n",
      "5\n",
      "8\n",
      "6\n",
      "3\n",
      "3\n",
      "6\n",
      "8\n",
      "9\n",
      "9\n",
      "7\n",
      "10\n",
      "11\n",
      "12\n",
      "[12 11 10  7  9  8  6  3  4  2  5  1]\n",
      "12\n",
      "10\n",
      "9\n",
      "7\n",
      "8\n",
      "8\n",
      "7\n",
      "9\n",
      "11\n",
      "11\n",
      "10\n",
      "12\n",
      "6\n",
      "3\n",
      "3\n",
      "6\n",
      "4\n",
      "5\n",
      "2\n",
      "2\n",
      "5\n",
      "4\n",
      "1\n",
      "1\n"
     ]
    },
    {
     "data": {
      "text/plain": [
       "array([ 1,  4,  6,  4,  4,  6, 12, 12, 12, 12, 12, 12])"
      ]
     },
     "execution_count": 248,
     "metadata": {},
     "output_type": "execute_result"
    }
   ],
   "source": [
    "scc = kosarajui_SSC_stack_initializePath(G)\n",
    "scc"
   ]
  },
  {
   "cell_type": "code",
   "execution_count": 233,
   "metadata": {},
   "outputs": [
    {
     "data": {
      "text/plain": [
       "array([6, 3, 2, 1])"
      ]
     },
     "execution_count": 233,
     "metadata": {},
     "output_type": "execute_result"
    }
   ],
   "source": [
    "countedScc = Counter(scc)\n",
    "largestComponents = np.sort(np.asarray(list(countedScc.values())))[::-1]\n",
    "largestComponents"
   ]
  },
  {
   "cell_type": "code",
   "execution_count": 203,
   "metadata": {
    "scrolled": true
   },
   "outputs": [
    {
     "name": "stdout",
     "output_type": "stream",
     "text": [
      "[12, 11, 10, 7, 9, 8, 6, 3, 4, 2, 5, 1]\n"
     ]
    },
    {
     "data": {
      "text/plain": [
       "[1, 4, 6, 4, 4, 6, 12, 12, 12, 12, 12, 12]"
      ]
     },
     "execution_count": 203,
     "metadata": {},
     "output_type": "execute_result"
    }
   ],
   "source": [
    "scc = kosarajui_SSC(G)\n",
    "scc"
   ]
  },
  {
   "cell_type": "code",
   "execution_count": 201,
   "metadata": {},
   "outputs": [
    {
     "data": {
      "text/plain": [
       "array([6, 3, 2, 1])"
      ]
     },
     "execution_count": 201,
     "metadata": {},
     "output_type": "execute_result"
    }
   ],
   "source": [
    "countedScc = Counter(scc)\n",
    "largestComponents = np.sort(np.asarray(list(countedScc.values())))[::-1]\n",
    "largestComponents"
   ]
  },
  {
   "cell_type": "markdown",
   "metadata": {},
   "source": [
    "# Final Solution to SCC"
   ]
  },
  {
   "cell_type": "code",
   "execution_count": 6,
   "metadata": {},
   "outputs": [],
   "source": [
    "data = np.loadtxt('SCC.txt',dtype=int)\n",
    "G = initializeDigraph(data)"
   ]
  },
  {
   "cell_type": "code",
   "execution_count": 7,
   "metadata": {
    "scrolled": true
   },
   "outputs": [
    {
     "ename": "IndexError",
     "evalue": "index 875724 is out of bounds for axis 0 with size 875724",
     "output_type": "error",
     "traceback": [
      "\u001b[1;31m---------------------------------------------------------------------------\u001b[0m",
      "\u001b[1;31mIndexError\u001b[0m                                Traceback (most recent call last)",
      "\u001b[1;32m<ipython-input-7-27ebb36edc6f>\u001b[0m in \u001b[0;36m<module>\u001b[1;34m\u001b[0m\n\u001b[0;32m      1\u001b[0m \u001b[0mt1\u001b[0m \u001b[1;33m=\u001b[0m \u001b[0mtime\u001b[0m\u001b[1;33m.\u001b[0m\u001b[0mtime\u001b[0m\u001b[1;33m(\u001b[0m\u001b[1;33m)\u001b[0m\u001b[1;33m\u001b[0m\u001b[1;33m\u001b[0m\u001b[0m\n\u001b[1;32m----> 2\u001b[1;33m \u001b[0mscc\u001b[0m \u001b[1;33m=\u001b[0m \u001b[0mkosarajui_SSC_stack_initializePath\u001b[0m\u001b[1;33m(\u001b[0m\u001b[0mG\u001b[0m\u001b[1;33m)\u001b[0m\u001b[1;33m\u001b[0m\u001b[1;33m\u001b[0m\u001b[0m\n\u001b[0m\u001b[0;32m      3\u001b[0m \u001b[0mt2\u001b[0m \u001b[1;33m=\u001b[0m \u001b[0mtime\u001b[0m\u001b[1;33m.\u001b[0m\u001b[0mtime\u001b[0m\u001b[1;33m(\u001b[0m\u001b[1;33m)\u001b[0m\u001b[1;33m\u001b[0m\u001b[1;33m\u001b[0m\u001b[0m\n\u001b[0;32m      4\u001b[0m \u001b[0mt2\u001b[0m\u001b[1;33m-\u001b[0m\u001b[0mt1\u001b[0m\u001b[1;33m\u001b[0m\u001b[1;33m\u001b[0m\u001b[0m\n",
      "\u001b[1;32m<ipython-input-5-d8305ef41f55>\u001b[0m in \u001b[0;36mkosarajui_SSC_stack_initializePath\u001b[1;34m(G)\u001b[0m\n\u001b[0;32m     92\u001b[0m \u001b[1;33m\u001b[0m\u001b[0m\n\u001b[0;32m     93\u001b[0m \u001b[1;33m\u001b[0m\u001b[0m\n\u001b[1;32m---> 94\u001b[1;33m     \u001b[0morder\u001b[0m\u001b[1;33m,\u001b[0m\u001b[0m_\u001b[0m \u001b[1;33m=\u001b[0m \u001b[0mdfs_loop_stack_optimized\u001b[0m\u001b[1;33m(\u001b[0m\u001b[0mreverseGraph\u001b[0m\u001b[1;33m(\u001b[0m\u001b[0mG\u001b[0m\u001b[1;33m.\u001b[0m\u001b[0mcopy\u001b[0m\u001b[1;33m(\u001b[0m\u001b[1;33m)\u001b[0m\u001b[1;33m)\u001b[0m\u001b[1;33m)\u001b[0m\u001b[1;33m\u001b[0m\u001b[1;33m\u001b[0m\u001b[0m\n\u001b[0m\u001b[0;32m     95\u001b[0m     \u001b[0mprint\u001b[0m\u001b[1;33m(\u001b[0m\u001b[0morder\u001b[0m\u001b[1;33m)\u001b[0m\u001b[1;33m\u001b[0m\u001b[1;33m\u001b[0m\u001b[0m\n\u001b[0;32m     96\u001b[0m     \u001b[0m_\u001b[0m\u001b[1;33m,\u001b[0m\u001b[0mleader\u001b[0m \u001b[1;33m=\u001b[0m \u001b[0mdfs_loop_stack_optimized\u001b[0m\u001b[1;33m(\u001b[0m\u001b[0mG\u001b[0m\u001b[1;33m,\u001b[0m\u001b[0mordering\u001b[0m\u001b[1;33m=\u001b[0m\u001b[0morder\u001b[0m\u001b[1;33m)\u001b[0m\u001b[1;33m\u001b[0m\u001b[1;33m\u001b[0m\u001b[0m\n",
      "\u001b[1;32m<ipython-input-5-d8305ef41f55>\u001b[0m in \u001b[0;36mdfs_loop_stack_optimized\u001b[1;34m(G, ordering)\u001b[0m\n\u001b[0;32m     83\u001b[0m             \u001b[0ms\u001b[0m \u001b[1;33m=\u001b[0m \u001b[0mnode\u001b[0m\u001b[1;33m\u001b[0m\u001b[1;33m\u001b[0m\u001b[0m\n\u001b[0;32m     84\u001b[0m             \u001b[0mleader\u001b[0m\u001b[1;33m[\u001b[0m\u001b[0mnode\u001b[0m\u001b[1;33m-\u001b[0m\u001b[1;36m1\u001b[0m\u001b[1;33m]\u001b[0m \u001b[1;33m=\u001b[0m \u001b[0ms\u001b[0m\u001b[1;33m\u001b[0m\u001b[1;33m\u001b[0m\u001b[0m\n\u001b[1;32m---> 85\u001b[1;33m             \u001b[0mG\u001b[0m\u001b[1;33m,\u001b[0m\u001b[0ms\u001b[0m\u001b[1;33m,\u001b[0m\u001b[0morderCounter\u001b[0m\u001b[1;33m,\u001b[0m\u001b[0morder\u001b[0m\u001b[1;33m,\u001b[0m\u001b[0mleader\u001b[0m \u001b[1;33m=\u001b[0m \u001b[0mdfs_scc_stack_optimized\u001b[0m\u001b[1;33m(\u001b[0m\u001b[0mG\u001b[0m\u001b[1;33m,\u001b[0m\u001b[0mnode\u001b[0m\u001b[1;33m,\u001b[0m\u001b[0ms\u001b[0m\u001b[1;33m,\u001b[0m\u001b[0morderCounter\u001b[0m\u001b[1;33m,\u001b[0m\u001b[0morder\u001b[0m\u001b[1;33m,\u001b[0m\u001b[0mleader\u001b[0m\u001b[1;33m)\u001b[0m\u001b[1;33m\u001b[0m\u001b[1;33m\u001b[0m\u001b[0m\n\u001b[0m\u001b[0;32m     86\u001b[0m     \u001b[0morder\u001b[0m \u001b[1;33m=\u001b[0m \u001b[0mnp\u001b[0m\u001b[1;33m.\u001b[0m\u001b[0mflip\u001b[0m\u001b[1;33m(\u001b[0m\u001b[0morder\u001b[0m\u001b[1;33m)\u001b[0m\u001b[1;33m\u001b[0m\u001b[1;33m\u001b[0m\u001b[0m\n\u001b[0;32m     87\u001b[0m     \u001b[1;32mreturn\u001b[0m \u001b[0morder\u001b[0m\u001b[1;33m,\u001b[0m\u001b[0mleader\u001b[0m\u001b[1;33m\u001b[0m\u001b[1;33m\u001b[0m\u001b[0m\n",
      "\u001b[1;32m<ipython-input-5-d8305ef41f55>\u001b[0m in \u001b[0;36mdfs_scc_stack_optimized\u001b[1;34m(G, start, s, orderCounter, order, leader)\u001b[0m\n\u001b[0;32m     56\u001b[0m                 \u001b[1;32mif\u001b[0m \u001b[1;32mnot\u001b[0m \u001b[0mG\u001b[0m\u001b[1;33m[\u001b[0m\u001b[0medge\u001b[0m\u001b[1;33m]\u001b[0m\u001b[1;33m[\u001b[0m\u001b[1;36m0\u001b[0m\u001b[1;33m]\u001b[0m\u001b[1;33m:\u001b[0m\u001b[1;33m\u001b[0m\u001b[1;33m\u001b[0m\u001b[0m\n\u001b[0;32m     57\u001b[0m                     \u001b[0mstackCounter\u001b[0m \u001b[1;33m+=\u001b[0m \u001b[1;36m1\u001b[0m\u001b[1;33m\u001b[0m\u001b[1;33m\u001b[0m\u001b[0m\n\u001b[1;32m---> 58\u001b[1;33m                     \u001b[0mstack\u001b[0m\u001b[1;33m[\u001b[0m\u001b[0mstackCounter\u001b[0m\u001b[1;33m]\u001b[0m \u001b[1;33m=\u001b[0m \u001b[0medge\u001b[0m\u001b[1;33m\u001b[0m\u001b[1;33m\u001b[0m\u001b[0m\n\u001b[0m\u001b[0;32m     59\u001b[0m         \u001b[1;32melse\u001b[0m\u001b[1;33m:\u001b[0m\u001b[1;33m\u001b[0m\u001b[1;33m\u001b[0m\u001b[0m\n\u001b[0;32m     60\u001b[0m             \u001b[1;32mif\u001b[0m \u001b[0mnode\u001b[0m \u001b[1;32mnot\u001b[0m \u001b[1;32min\u001b[0m \u001b[0morder\u001b[0m\u001b[1;33m:\u001b[0m\u001b[1;33m\u001b[0m\u001b[1;33m\u001b[0m\u001b[0m\n",
      "\u001b[1;31mIndexError\u001b[0m: index 875724 is out of bounds for axis 0 with size 875724"
     ]
    }
   ],
   "source": [
    "t1 = time.time()\n",
    "scc = kosarajui_SSC_stack_initializePath(G)\n",
    "t2 = time.time()\n",
    "t2-t1"
   ]
  },
  {
   "cell_type": "code",
   "execution_count": null,
   "metadata": {},
   "outputs": [],
   "source": [
    "countedScc = Counter(scc)\n",
    "largestComponents = np.sort(np.asarray(list(countedScc.values())))[::-1][0:5]\n",
    "largestComponents\n"
   ]
  },
  {
   "cell_type": "code",
   "execution_count": null,
   "metadata": {},
   "outputs": [],
   "source": []
  }
 ],
 "metadata": {
  "kernelspec": {
   "display_name": "Python 3",
   "language": "python",
   "name": "python3"
  },
  "language_info": {
   "codemirror_mode": {
    "name": "ipython",
    "version": 3
   },
   "file_extension": ".py",
   "mimetype": "text/x-python",
   "name": "python",
   "nbconvert_exporter": "python",
   "pygments_lexer": "ipython3",
   "version": "3.8.5"
  }
 },
 "nbformat": 4,
 "nbformat_minor": 4
}
