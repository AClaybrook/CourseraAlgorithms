{
 "cells": [
  {
   "cell_type": "code",
   "execution_count": 1,
   "metadata": {},
   "outputs": [],
   "source": [
    "import numpy as np\n",
    "import time\n",
    "import sys"
   ]
  },
  {
   "cell_type": "markdown",
   "metadata": {},
   "source": [
    "The file contains all of the integers between 1 and 10,000 (inclusive, with no repeats) in unsorted order.  The integer in the i^{th}i \n",
    "th\n",
    "  row of the file gives you the i^{th}i \n",
    "th\n",
    "  entry of an input array.\n",
    "\n",
    " Your task is to compute the total number of comparisons used to sort the given input file by QuickSort.  As you know, the number of comparisons depends on which elements are chosen as pivots, so we'll ask you to explore three different pivoting rules.\n",
    "\n",
    "You should not count comparisons one-by-one.  Rather, when there is a recursive call on a subarray of length m, you should simply add m-1 to your running total of comparisons.  (This is because the pivot element is compared to each of the other m-1 elements in the subarray in this recursive call.)\n",
    "\n",
    "\n",
    "1)\n",
    "For the first part of the programming assignment, you should always use the first element of the array as the pivot element.\n",
    "\n",
    "2)\n",
    "Compute the number of comparisons (as in Problem 1), always using the final element of the given array as the pivot element.  Again, be sure to implement the Partition subroutine exactly as it is described in the video lectures.\n",
    "\n",
    "3)\n",
    "Compute the number of comparisons (as in Problem 1), using the \"median-of-three\" pivot rule.  [The primary motivation behind this rule is to do a little bit of extra work to get much better performance on input arrays that are nearly sorted or reverse sorted.]  In more detail, you should choose the pivot as follows.  Consider the first, middle, and final elements of the given array.  (If the array has odd length it should be clear what the \"middle\" element is; for an array with even length 2k, use the k^{th}\n",
    "  element as the \"middle\" element. So for the array 4 5 6 7,  the \"middle\" element is the second one ---- 5 and not 6!)  Identify which of these three elements is the median (i.e., the one whose value is in between the other two), and use this as your pivot.  As discussed in the first and second parts of this programming assignment, be sure to implement Partition exactly as described in the video lectures (including exchanging the pivot element with the first element just before the main Partition subroutine).\n",
    "\n",
    "EXAMPLE: For the input array 8 2 4 5 7 1 you would consider the first (8), middle (4), and last (1) elements; since 4 is the median of the set {1,4,8}, you would use 4 as your pivot element."
   ]
  },
  {
   "cell_type": "markdown",
   "metadata": {},
   "source": [
    "## 1) Quick sort using first pivot"
   ]
  },
  {
   "cell_type": "code",
   "execution_count": 51,
   "metadata": {},
   "outputs": [],
   "source": [
    "def quickSort(data,pivotMethod='random'):\n",
    "    # Need this function to initialize the left and right bounds. There may be a smarter way to do this\n",
    "    left = 0\n",
    "    right = len(data)-1\n",
    "    comparisons,data = quickSortCall(data,left,right,pivotMethod)\n",
    "    return comparisons,data\n",
    "\n",
    "def quickSortCall(data,left,right,pivotMethod='random'):\n",
    "    if len(data) == 1:\n",
    "        comparisons = 0\n",
    "        return comparisons,data\n",
    "    if left < right:\n",
    "        # Pick pivot index\n",
    "        comparisonsPartition,data,p = partition(data,left,right,pivotMethod)\n",
    "        comparisonsLeft,data = quickSortCall(data,left,p-1,pivotMethod)\n",
    "        comparisonsRight,data = quickSortCall(data,p+1,right,pivotMethod)\n",
    "        comparisons = comparisonsLeft+comparisonsRight+comparisonsPartition\n",
    "    else:\n",
    "        comparisons = 0\n",
    "    return comparisons,data\n",
    "\n",
    "\n",
    "\n",
    "# Test case https://www.coursera.org/learn/algorithms-divide-conquer/discussions/weeks/3/threads/fG_c7gxREeiFUgpNZCwT4A\n",
    "def partition(data,left,right,pivotMethod='random'):\n",
    "    \n",
    "    if pivotMethod.lower() == 'first':\n",
    "        # Pick left most as pivot\n",
    "        pivot = data[left]\n",
    "        pivotIndex = left\n",
    "    elif pivotMethod.lower() == 'last':\n",
    "        pivot = data[right]\n",
    "        pivotIndex = right\n",
    "    elif pivotMethod.lower() == 'random':\n",
    "        np.random.seed(1)\n",
    "        pivotIndex = np.random.randint(left,right+1)\n",
    "        pivot = data[pivotIndex]\n",
    "    else:\n",
    "        # Get first, last, and middle element\n",
    "#         print(data)\n",
    "        if right-left == 1:\n",
    "            middle = left\n",
    "            pivot = data[left]\n",
    "            pivotIndex = left\n",
    "        else:\n",
    "            middle = int(np.ceil((right-left+1)/2)-1)+left\n",
    "            medianOfThree = np.array([data[middle],data[left],data[right]])\n",
    "            for ii in range(3):\n",
    "                if (medianOfThree[ii] >  min(medianOfThree)) and (medianOfThree[ii] < max(medianOfThree)):\n",
    "                    pivot = medianOfThree[ii]\n",
    "                    pivotIndex = np.array([middle,left,right])[ii]\n",
    "#             print(data[left],data[right],data[middle],pivot)\n",
    "\n",
    "    # Swap because we may have picked an element from the middle of the array, carry on as normal\n",
    "    data[pivotIndex],data[left] = data[left],data[pivotIndex]\n",
    "    \n",
    "    # Partial Sort\n",
    "    i = left+1\n",
    "    for j in range(left+1,right+1):\n",
    "        if data[j] < pivot: # swap i and j and increment\n",
    "            data[i],data[j] = data[j],data[i]\n",
    "            i+=1\n",
    "\n",
    "    # Swap pivot position\n",
    "    data[left],data[i-1] = data[i-1],data[left]\n",
    "    comparisons = (right-left)\n",
    "    p = i-1\n",
    "#     print(comparisons)\n",
    "    return comparisons,data,p\n"
   ]
  },
  {
   "cell_type": "code",
   "execution_count": 52,
   "metadata": {},
   "outputs": [
    {
     "data": {
      "text/plain": [
       "(162085,\n",
       " array([1.000e+00, 2.000e+00, 3.000e+00, ..., 9.998e+03, 9.999e+03,\n",
       "        1.000e+04]),\n",
       " 0.05605125427246094)"
      ]
     },
     "execution_count": 52,
     "metadata": {},
     "output_type": "execute_result"
    }
   ],
   "source": [
    "data = np.loadtxt('QuickSortArray.txt')\n",
    "# data = np.sort(data)\n",
    "t1 = time.time()\n",
    "comparisons,data = quickSort(data,pivotMethod='first')\n",
    "comparisons,data,time.time()-t1"
   ]
  },
  {
   "cell_type": "code",
   "execution_count": 53,
   "metadata": {},
   "outputs": [
    {
     "data": {
      "text/plain": [
       "(1.0, 1.0)"
      ]
     },
     "execution_count": 53,
     "metadata": {},
     "output_type": "execute_result"
    }
   ],
   "source": [
    "#Check it is right\n",
    "min(np.diff(data)),max(np.diff(data))"
   ]
  },
  {
   "cell_type": "code",
   "execution_count": 54,
   "metadata": {},
   "outputs": [
    {
     "data": {
      "text/plain": [
       "5"
      ]
     },
     "execution_count": 54,
     "metadata": {},
     "output_type": "execute_result"
    }
   ],
   "source": [
    "np.random.seed(1)\n",
    "np.random.randint(4,7)"
   ]
  },
  {
   "cell_type": "markdown",
   "metadata": {},
   "source": [
    "## 2) Quick sort using last pivot"
   ]
  },
  {
   "cell_type": "code",
   "execution_count": 55,
   "metadata": {},
   "outputs": [
    {
     "data": {
      "text/plain": [
       "(164123,\n",
       " array([1.000e+00, 2.000e+00, 3.000e+00, ..., 9.998e+03, 9.999e+03,\n",
       "        1.000e+04]),\n",
       " 0.05404949188232422)"
      ]
     },
     "execution_count": 55,
     "metadata": {},
     "output_type": "execute_result"
    }
   ],
   "source": [
    "data = np.loadtxt('QuickSortArray.txt')\n",
    "t1 = time.time()\n",
    "comparisons,data = quickSort(data,pivotMethod='last')\n",
    "comparisons,data,time.time()-t1"
   ]
  },
  {
   "cell_type": "code",
   "execution_count": 56,
   "metadata": {},
   "outputs": [
    {
     "data": {
      "text/plain": [
       "(1.0, 1.0)"
      ]
     },
     "execution_count": 56,
     "metadata": {},
     "output_type": "execute_result"
    }
   ],
   "source": [
    "#Check it is right\n",
    "min(np.diff(data)),max(np.diff(data))"
   ]
  },
  {
   "cell_type": "markdown",
   "metadata": {},
   "source": [
    "## 3) Quick sort using the median of 3 rule"
   ]
  },
  {
   "cell_type": "code",
   "execution_count": 57,
   "metadata": {},
   "outputs": [
    {
     "data": {
      "text/plain": [
       "(138382,\n",
       " array([1.000e+00, 2.000e+00, 3.000e+00, ..., 9.998e+03, 9.999e+03,\n",
       "        1.000e+04]),\n",
       " 0.10309338569641113)"
      ]
     },
     "execution_count": 57,
     "metadata": {},
     "output_type": "execute_result"
    }
   ],
   "source": [
    "# This works with sorted data much much better\n",
    "# data = [2, 20, 1, 15, 3, 11, 13, 6, 16, 10, 19, 5, 4, 9, 8, 14, 18, 17, 7, 12] # Test data\n",
    "t1 = time.time()\n",
    "data = np.loadtxt('QuickSortArray.txt')\n",
    "# data = np.sort(data)\n",
    "comparisons,data = quickSort(data,pivotMethod='median')\n",
    "comparisons,data,time.time()-t1"
   ]
  },
  {
   "cell_type": "code",
   "execution_count": 58,
   "metadata": {},
   "outputs": [
    {
     "data": {
      "text/plain": [
       "(1.0, 1.0)"
      ]
     },
     "execution_count": 58,
     "metadata": {},
     "output_type": "execute_result"
    }
   ],
   "source": [
    "#Check it is right\n",
    "min(np.diff(data)),max(np.diff(data))"
   ]
  },
  {
   "cell_type": "markdown",
   "metadata": {},
   "source": [
    "## Just for fun lets try random"
   ]
  },
  {
   "cell_type": "code",
   "execution_count": 59,
   "metadata": {},
   "outputs": [
    {
     "data": {
      "text/plain": [
       "(157643,\n",
       " array([1.000e+00, 2.000e+00, 3.000e+00, ..., 9.998e+03, 9.999e+03,\n",
       "        1.000e+04]),\n",
       " 0.07807135581970215)"
      ]
     },
     "execution_count": 59,
     "metadata": {},
     "output_type": "execute_result"
    }
   ],
   "source": [
    "data = np.loadtxt('QuickSortArray.txt')\n",
    "# data = np.sort(data)\n",
    "t1 = time.time()\n",
    "comparisons,data = quickSort(data,pivotMethod='random')\n",
    "comparisons,data,time.time()-t1"
   ]
  },
  {
   "cell_type": "code",
   "execution_count": 60,
   "metadata": {},
   "outputs": [
    {
     "data": {
      "text/plain": [
       "(1.0, 1.0)"
      ]
     },
     "execution_count": 60,
     "metadata": {},
     "output_type": "execute_result"
    }
   ],
   "source": [
    "#Check it is right\n",
    "min(np.diff(data)),max(np.diff(data))"
   ]
  },
  {
   "cell_type": "code",
   "execution_count": 61,
   "metadata": {},
   "outputs": [
    {
     "data": {
      "text/plain": [
       "0.0"
      ]
     },
     "execution_count": 61,
     "metadata": {},
     "output_type": "execute_result"
    }
   ],
   "source": [
    "data = np.loadtxt('QuickSortArray.txt')\n",
    "t1 = time.time()\n",
    "data = np.sort(data)\n",
    "time.time()-t1"
   ]
  },
  {
   "cell_type": "code",
   "execution_count": 64,
   "metadata": {},
   "outputs": [
    {
     "data": {
      "text/plain": [
       "(2046746,\n",
       " array([1.0000e+00, 2.0000e+00, 3.0000e+00, ..., 9.9998e+04, 9.9999e+04,\n",
       "        1.0000e+05]),\n",
       " 0.9098284244537354)"
      ]
     },
     "execution_count": 64,
     "metadata": {},
     "output_type": "execute_result"
    }
   ],
   "source": [
    "# Compare to merge sort for fun. Similar performance with the first and last options being faster, but those suffer if the dat ais ordered, so random and median seem like a good alternative\n",
    "# Merge sort was ~0.83 sec, and quick sort is ~0.6-0.9\n",
    "data = np.loadtxt('IntegerArray.txt')\n",
    "t1 = time.time()\n",
    "comparisons,data = quickSort(data,pivotMethod='random')\n",
    "comparisons,data,time.time()-t1"
   ]
  },
  {
   "cell_type": "code",
   "execution_count": null,
   "metadata": {},
   "outputs": [],
   "source": []
  }
 ],
 "metadata": {
  "kernelspec": {
   "display_name": "Python 3",
   "language": "python",
   "name": "python3"
  },
  "language_info": {
   "codemirror_mode": {
    "name": "ipython",
    "version": 3
   },
   "file_extension": ".py",
   "mimetype": "text/x-python",
   "name": "python",
   "nbconvert_exporter": "python",
   "pygments_lexer": "ipython3",
   "version": "3.8.5"
  }
 },
 "nbformat": 4,
 "nbformat_minor": 4
}
