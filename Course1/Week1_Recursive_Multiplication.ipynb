{
 "cells": [
  {
   "cell_type": "code",
   "execution_count": 303,
   "metadata": {},
   "outputs": [],
   "source": [
    "\n",
    "def karatusbaMultiplication(num1,num2):\n",
    "    \n",
    "    # Check if one of the numbers is a single digit\n",
    "    if len(str(num1)) == 1 or len(str(num2)) == 1:\n",
    "        return num1*num2\n",
    "    else:\n",
    "        \n",
    "        # Split into 2. The odds and evens can be handled with rounding up n/2. Tried string originally and that didnt work\n",
    "        n = max(len(str(num1)),len(str(num2)))\n",
    "        maxndiv2 = int(round(n/2))\n",
    "        \n",
    "        # Define a,b,c,d. These will always be lenth of a multiple of 2 or 1\n",
    "        a = num1 // (10 ** maxndiv2)\n",
    "        b = num1 % (10 ** maxndiv2)\n",
    "\n",
    "        c = num2 // (10 ** maxndiv2)\n",
    "        d = num2 % (10 ** maxndiv2)\n",
    "        \n",
    "\n",
    "        ac = karatusbaMultiplication(a,c)\n",
    "        bd = karatusbaMultiplication(b,d)\n",
    "        ad_bc = karatusbaMultiplication((a+b),(c+d))-ac-bd\n",
    "\n",
    "        return int(10**(2*maxndiv2)*ac+10**(maxndiv2)*(ad_bc)+bd)\n",
    "\n",
    "    "
   ]
  },
  {
   "cell_type": "code",
   "execution_count": 306,
   "metadata": {},
   "outputs": [
    {
     "data": {
      "text/plain": [
       "True"
      ]
     },
     "execution_count": 306,
     "metadata": {},
     "output_type": "execute_result"
    }
   ],
   "source": [
    "# Given two integers multiply them but only with 1 number at a time using Karatsuba Multiplication\n",
    "num1 = 3141592653589793238462643383279502884197169399375105820974944592\n",
    "num2 = 2718281828459045235360287471352662497757247093699959574966967627\n",
    "answer = karatusbaMultiplication(num1,num2)\n",
    "answer == num1*num2"
   ]
  },
  {
   "cell_type": "code",
   "execution_count": 307,
   "metadata": {},
   "outputs": [
    {
     "data": {
      "text/plain": [
       "8539734222673567065463550869546574495034888535765114961879601127067743044893204848617875072216249073013374895871952806582723184"
      ]
     },
     "execution_count": 307,
     "metadata": {},
     "output_type": "execute_result"
    }
   ],
   "source": [
    "karatusbaMultiplication(num1,num2)"
   ]
  },
  {
   "cell_type": "markdown",
   "metadata": {},
   "source": [
    "## A bunch of other ways I tried. Worked with 4 recursive calls, but the odd numbers messed me up when I switched to 3 calls. I tried strings but couldnt find a algorithm that always worked after a couple of hours. So google helped. Turns out you can handle the odd and even numbers with a trick"
   ]
  },
  {
   "cell_type": "code",
   "execution_count": 285,
   "metadata": {},
   "outputs": [],
   "source": [
    "\n",
    "def karatusbaMultiplication(num1Str,num2Str):\n",
    "    \n",
    "   \n",
    "    # Equal length\n",
    "    n = len(num1Str)\n",
    "    n2 = len(num2Str)\n",
    "    \n",
    "    if n == 1 or n2 == 1:\n",
    "        return int(num1Str)*int(num2Str)\n",
    "    else:\n",
    "        n = max(n,n2)\n",
    "        maxndiv2 = round(n/2)\n",
    "\n",
    "        # Define a,b,c,d. These will always be lenth of a multiple of 2 or 1\n",
    "        a = num1Str[0:maxndiv2]\n",
    "        b = num1Str[maxndiv2:]\n",
    "        c = num2Str[0:maxndiv2]\n",
    "        d = num2Str[maxndiv2:]\n",
    "\n",
    "        ac = karatusbaMultiplication(a,c)\n",
    "        bd = karatusbaMultiplication(b,d)\n",
    "        ad_bc = karatusbaMultiplication(str(int(a)+int(b)),str(int(c)+int(d)))-ac-bd\n",
    "        \n",
    "    return int(10**(n)*ac+10**(n/2)*(ad_bc)+bd)\n",
    "\n",
    "    "
   ]
  },
  {
   "cell_type": "code",
   "execution_count": 274,
   "metadata": {},
   "outputs": [],
   "source": [
    "\n",
    "def karatusbaMultiplication(num1,num2):\n",
    "    \n",
    "    n = int(len(num1Str))\n",
    "    n2 = int(len(num2Str))\n",
    "    \n",
    "    if len(str(num1)) == 1 or len(str(num)) == 1:\n",
    "        return int(num1Str)*int(num2Str)\n",
    "    else:\n",
    "        n = max(n,n2)\n",
    "        maxndiv2 = int(round(n/2))\n",
    "        \n",
    "        # Define a,b,c,d. These will always be lenth of a multiple of 2 or 1\n",
    "        a = x // (10 ** maxndiv2)\n",
    "        b = x % (10 ** maxndiv2)\n",
    "\n",
    "        c = y // (10 ** maxndiv2)\n",
    "        d = y % (10 ** maxndiv2)\n",
    "        \n",
    "        print(a,b,c,d)\n",
    "\n",
    "        # Sum or call recursively\n",
    "        if len(a) == 1:\n",
    "            ac = int(a)*int(c)\n",
    "            bd = int(b)*int(d)\n",
    "            ad_bc = int(a)*int(d)+int(b)*int(c)\n",
    "        else:\n",
    "            ac = karatusbaMultiplication(a,c)\n",
    "            bd = karatusbaMultiplication(b,d)\n",
    "            ad_bc = karatusbaMultiplication(str(int(a)+int(b)),str(int(c)+int(d)))-ac-bd\n",
    "\n",
    "        return int(10**(2*maxndiv2)*ac+10**(maxndiv2)*(ad_bc)+bd)\n",
    "\n",
    "    "
   ]
  },
  {
   "cell_type": "code",
   "execution_count": 228,
   "metadata": {},
   "outputs": [],
   "source": [
    "\n",
    "def karatusbaMultiplication(num1Str,num2Str):\n",
    "    \n",
    "    # Pad with 0s if the lengths are uneven or the length is odd\n",
    "#     n = int(len(num1Str))\n",
    "#     n2 = int(len(num2Str)) \n",
    "#     if (n%2) != 0 or (n2%2) !=0:\n",
    "#         if n > n2:\n",
    "#             num1Str = '0'+num1Str\n",
    "#             num2Str = '00'+num2Str\n",
    "#         elif n < n2:\n",
    "#             num1Str = '00'+num1Str\n",
    "#             num2Str = '0'+num2Str\n",
    "#         else:\n",
    "#             num1Str = '0'+num1Str\n",
    "#             num2Str = '0'+num2Str\n",
    "#         n = int(len(num1Str))\n",
    "#         n2 = int(len(num2Str)) \n",
    "        \n",
    "        \n",
    "        \n",
    "    # Equal length\n",
    "    n = int(len(num1Str))\n",
    "    n2 = int(len(num2Str))\n",
    "    \n",
    "    if n == 1 or n2 == 1:\n",
    "        return int(num1Str*num2Str\n",
    "    \n",
    "    if n == n2:\n",
    "        #Odd\n",
    "        if (n%2) != 0:\n",
    "            num1Str = '0'+num1Str\n",
    "            num2Str = '0'+num2Str\n",
    "    elif n < n2:\n",
    "        if (n2%2) != 0:\n",
    "            num1Str = \"{:0>{}d}\".format(0,n2-n+1)+num1Str\n",
    "            num2Str = '0'+num2Str \n",
    "        else:\n",
    "            num1Str = \"{:0>{}d}\".format(0,n2-n)+num1Str\n",
    "    elif n > n2:\n",
    "        if (n%2) != 0:\n",
    "            num1Str = '0'+num1Str\n",
    "            num2Str = \"{:0>{}d}\".format(0,n-n2+1)+num2Str\n",
    "        else:\n",
    "            num2Str = \"{:0>{}d}\".format(0,n-n2)+num2Str\n",
    "    n = int(len(num1Str))\n",
    "    n2 = int(len(num2Str)) \n",
    "        \n",
    "    # Define a,b,c,d. These will always be lenth of a multiple of 2 or 1\n",
    "    a = num1Str[0:int(n/2)]\n",
    "    b = num1Str[int(n/2):]\n",
    "    c = num2Str[0:int(n2/2)]\n",
    "    d = num2Str[int(n2/2):]\n",
    "\n",
    "    print(a,b,c,d)\n",
    "\n",
    "    # Sum or call recursively\n",
    "    if len(a) == 1:\n",
    "        ac = int(a)*int(c)\n",
    "        bd = int(b)*int(d)\n",
    "        ad_bc = int(a)*int(d)+int(b)*int(c)\n",
    "    else:\n",
    "        ac = karatusbaMultiplication(a,c)\n",
    "        bd = karatusbaMultiplication(b,d)\n",
    "        ad_bc = karatusbaMultiplication(str(int(a)+int(b)),str(int(c)+int(d)))-ac-bd\n",
    "        \n",
    "    return int(10**(n)*ac+10**(n/2)*(ad_bc)+bd)\n",
    "\n",
    "    "
   ]
  },
  {
   "cell_type": "code",
   "execution_count": 266,
   "metadata": {},
   "outputs": [],
   "source": [
    "# https://github.com/5war00p/Karatsuba/blob/master/Karatsuba_Mul_rec.py\n",
    "def Karatsuba(x, y):\n",
    "    if x < 10 and y < 10:\n",
    "        return x * y\n",
    "\n",
    "    num1_len = len(str(x))\n",
    "    num2_len = len(str(y))\n",
    "\n",
    "    n = max(num1_len,num2_len)\n",
    "\n",
    "    # round decides to be floor or ceil value\n",
    "    # by this we can reduce some function calls\n",
    "    # of ceil or floor recursively\n",
    "    \n",
    "    nby2 = round(n/2)\n",
    "\n",
    "    num1 = x // (10 ** nby2)\n",
    "    rem1 = x % (10 ** nby2)\n",
    "\n",
    "    num2 = y // (10 ** nby2)\n",
    "    rem2 = y % (10 ** nby2)\n",
    "\n",
    "    ac = Karatsuba(num1, num2)\n",
    "    bd = Karatsuba(rem1, rem2)\n",
    "    ad_plus_bc = Karatsuba(num1 + rem1, num2 + rem2) - ac - bd\n",
    "\n",
    "    return (10 ** (2*nby2))*ac + (10 ** nby2)*ad_plus_bc + bd"
   ]
  },
  {
   "cell_type": "code",
   "execution_count": 267,
   "metadata": {},
   "outputs": [
    {
     "data": {
      "text/plain": [
       "12429239642580955152"
      ]
     },
     "execution_count": 267,
     "metadata": {},
     "output_type": "execute_result"
    }
   ],
   "source": [
    "num1 = 1243421332791212\n",
    "num2 = 9996 \n",
    "Karatsuba(num1,num2)"
   ]
  }
 ],
 "metadata": {
  "kernelspec": {
   "display_name": "Python 3",
   "language": "python",
   "name": "python3"
  },
  "language_info": {
   "codemirror_mode": {
    "name": "ipython",
    "version": 3
   },
   "file_extension": ".py",
   "mimetype": "text/x-python",
   "name": "python",
   "nbconvert_exporter": "python",
   "pygments_lexer": "ipython3",
   "version": "3.8.5"
  }
 },
 "nbformat": 4,
 "nbformat_minor": 4
}
