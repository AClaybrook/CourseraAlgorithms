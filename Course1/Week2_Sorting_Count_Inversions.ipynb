{
 "cells": [
  {
   "cell_type": "markdown",
   "metadata": {},
   "source": [
    "This file contains all of the 100,000 integers between 1 and 100,000 (inclusive) in some order, with no integer repeated.\n",
    "\n",
    " Your task is to compute the number of inversions in the file given, where the i^{th}i \n",
    "th\n",
    "  row of the file indicates the i^{th}i \n",
    "th\n",
    "  entry of an array.\n",
    "\n",
    "  Because of the large size of this array, you should implement the fast divide-and-conquer algorithm covered in the video lectures.\n"
   ]
  },
  {
   "cell_type": "code",
   "execution_count": 1,
   "metadata": {},
   "outputs": [],
   "source": [
    "import numpy as np\n",
    "import time\n",
    "\n",
    "# mergeSort\n",
    "def mergeSort(data):\n",
    "    n = len(data)\n",
    "    # Return elements\n",
    "    if n <= 1:\n",
    "        return data\n",
    "    else:\n",
    "        # split array\n",
    "        ndiv2 = n//2\n",
    "        \n",
    "        unsortedArr1 = data[:ndiv2]\n",
    "        unsortedArr2 = data[ndiv2:]\n",
    "        arr1 = mergeSort(unsortedArr1)\n",
    "        arr2 = mergeSort(unsortedArr2)\n",
    "\n",
    "        sortedData = merge(arr1,arr2)\n",
    "            \n",
    "        return sortedData\n",
    "    \n",
    "    \n",
    "    \n",
    "def merge(arr1,arr2):\n",
    "    # Merge sorted arrays\n",
    "    i = 0\n",
    "    j = 0\n",
    "    n = len(arr1)+len(arr2)\n",
    "    sortedData = np.zeros(n,)\n",
    "    for k in range(n):\n",
    "        # Compare the elements\n",
    "        if i < len(arr1) and j < len(arr2):\n",
    "            if arr1[i] <= arr2[j]:\n",
    "                sortedData[k] = arr1[i]\n",
    "                i+=1\n",
    "            else:\n",
    "                sortedData[k] = arr2[j]\n",
    "                j+=1\n",
    "        # Concatenate if you run out of elements\n",
    "        elif i == len(arr1):\n",
    "            sortedData[k] = arr2[j]\n",
    "            j+=1\n",
    "        elif j == len(arr2):\n",
    "            sortedData[k] = arr1[i]\n",
    "            i+=1\n",
    "    return sortedData\n"
   ]
  },
  {
   "cell_type": "code",
   "execution_count": 2,
   "metadata": {},
   "outputs": [],
   "source": [
    "# mergeSort\n",
    "def mergeSortAndCount(data):\n",
    "    \n",
    "    # Get length of data\n",
    "    inversions = 0\n",
    "    n = len(data)\n",
    "    \n",
    "    # Return elements\n",
    "    if n <= 1:\n",
    "        return data,inversions\n",
    "    else:\n",
    "        # split array and call recursively until array is of size 1\n",
    "        ndiv2 = n//2\n",
    "        unsortedArr1 = data[:ndiv2]\n",
    "        unsortedArr2 = data[ndiv2:]\n",
    "        arr1,inversions1 = mergeSortAndCount(unsortedArr1)\n",
    "        arr2,inversions2 = mergeSortAndCount(unsortedArr2)\n",
    "\n",
    "        # sort array\n",
    "        sortedData,inversionsSplit = mergeAndCount(arr1,arr2)\n",
    "        \n",
    "        # sum inversions\n",
    "        inversions = inversions1+inversions2+inversionsSplit\n",
    "            \n",
    "        return sortedData,inversions\n",
    "    \n",
    "    \n",
    "    \n",
    "def mergeAndCount(arr1,arr2):\n",
    "    # Merge sorted arrays\n",
    "    i = 0\n",
    "    j = 0\n",
    "    n = len(arr1)+len(arr2)\n",
    "    sortedData = np.zeros(n,)\n",
    "    inversions=0\n",
    "    for k in range(n):\n",
    "        # Compare the elements\n",
    "        if i < len(arr1) and j < len(arr2):\n",
    "            if arr1[i] <= arr2[j]:\n",
    "                sortedData[k] = arr1[i]\n",
    "                i+=1\n",
    "            else:\n",
    "                sortedData[k] = arr2[j]\n",
    "                j+=1\n",
    "                inversions+=(len(arr1)-(i))\n",
    "        # Concatenate if you run out of elements\n",
    "        elif i == len(arr1):\n",
    "            sortedData[k] = arr2[j]\n",
    "            j+=1\n",
    "        elif j == len(arr2):\n",
    "            sortedData[k] = arr1[i]\n",
    "            i+=1\n",
    "            \n",
    "    return sortedData,inversions"
   ]
  },
  {
   "cell_type": "code",
   "execution_count": 3,
   "metadata": {},
   "outputs": [
    {
     "data": {
      "text/plain": [
       "(array([1.0000e+00, 2.0000e+00, 3.0000e+00, ..., 9.9998e+04, 9.9999e+04,\n",
       "        1.0000e+05]),\n",
       " 1.0363874435424805)"
      ]
     },
     "execution_count": 3,
     "metadata": {},
     "output_type": "execute_result"
    }
   ],
   "source": [
    "# Mergesort\n",
    "data = np.loadtxt('IntegerArray.txt')\n",
    "t1 = time.time()\n",
    "sortedData = mergeSort(data)\n",
    "t2 = time.time()-t1\n",
    "sortedData,t2"
   ]
  },
  {
   "cell_type": "code",
   "execution_count": 4,
   "metadata": {},
   "outputs": [
    {
     "data": {
      "text/plain": [
       "94.11167161012362"
      ]
     },
     "execution_count": 4,
     "metadata": {},
     "output_type": "execute_result"
    }
   ],
   "source": [
    "# Comparison to numpy's sort\n",
    "t1 = time.time()\n",
    "np.sort(data,kind='mergesort')\n",
    "t3 = time.time()-t1\n",
    "\n",
    "t2/t3"
   ]
  },
  {
   "cell_type": "code",
   "execution_count": 5,
   "metadata": {},
   "outputs": [
    {
     "data": {
      "text/plain": [
       "(2407905288,\n",
       " array([1.0000e+00, 2.0000e+00, 3.0000e+00, ..., 9.9998e+04, 9.9999e+04,\n",
       "        1.0000e+05]))"
      ]
     },
     "execution_count": 5,
     "metadata": {},
     "output_type": "execute_result"
    }
   ],
   "source": [
    "# MergeSortAndCount Inversions\n",
    "t1 = time.time()\n",
    "sortedData,inversions = mergeSortAndCount(data)\n",
    "t2 = time.time()-t1\n",
    "inversions,sortedData "
   ]
  },
  {
   "cell_type": "code",
   "execution_count": null,
   "metadata": {},
   "outputs": [],
   "source": []
  }
 ],
 "metadata": {
  "kernelspec": {
   "display_name": "Python 3",
   "language": "python",
   "name": "python3"
  },
  "language_info": {
   "codemirror_mode": {
    "name": "ipython",
    "version": 3
   },
   "file_extension": ".py",
   "mimetype": "text/x-python",
   "name": "python",
   "nbconvert_exporter": "python",
   "pygments_lexer": "ipython3",
   "version": "3.8.5"
  }
 },
 "nbformat": 4,
 "nbformat_minor": 4
}
